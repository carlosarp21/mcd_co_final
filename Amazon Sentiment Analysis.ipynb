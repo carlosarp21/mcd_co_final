{
 "cells": [
  {
   "cell_type": "markdown",
   "metadata": {},
   "source": [
    "<div>\n",
    "  <img src=\"http://oci02.img.iteso.mx/identidad_de_instancia_2018/ITESO/Logos%20ITESO/Logo-ITESO-Principal.jpg\" style=\"width:220px;height:70px; vertical-align:middle; float:right\" align=\"middle\">\n",
    "</div>\n",
    "\n",
    "\n",
    "<h3> <i>Convex Optimization  - Autumn 2021</i></h3>\n",
    "\n",
    "<a id='top'></a>\n",
    "    "
   ]
  },
  {
   "cell_type": "markdown",
   "metadata": {},
   "source": [
    " "
   ]
  },
  {
   "cell_type": "markdown",
   "metadata": {},
   "source": [
    "<center><h2>Final Project. Sentiment Analysis using SVC</h2></center>"
   ]
  },
  {
   "cell_type": "markdown",
   "metadata": {},
   "source": [
    " "
   ]
  },
  {
   "cell_type": "markdown",
   "metadata": {},
   "source": [
    "  "
   ]
  },
  {
   "cell_type": "markdown",
   "metadata": {},
   "source": [
    "<form action=\"/action_page.php\">\n",
    "  <fieldset>\n",
    "    <legend><strong>Team Info</strong></legend>\n",
    "    \n",
    "   <div class=\"card\">\n",
    "       \n",
    "  <h4 class=\"card-header\">Carlos Alejandro Ramos Pérez, &emsp;&emsp;&emsp; César Contreras González, &emsp;&emsp;&emsp; Adrian Ramos Pérez &emsp;&emsp;&emsp;&emsp;&emsp;&emsp;&emsp;&emsp;&emsp;&emsp;&emsp;&emsp;&emsp;&emsp;&emsp;&emsp;23/11/2021</h4> \n",
    "       \n",
    "  <div class=\"card-body\">\n",
    "      <h5 class=\"card-title\"><a href=\"mailto:alejandro.ramos@iteso.mx\">alejandro.ramos@iteso.mx</a>, &emsp;&emsp;&emsp;&emsp;&emsp; <a href=\"mailto:cesar.contreras@iteso.mx\">cesar.contreras@iteso.mx</a>, &emsp;&emsp;&emsp; <a href=\"mailto:adrian.ramos@iteso.mx\">adrian.ramos@iteso.mx</a></h5>\n",
    "\n",
    "  </div>\n",
    "       \n",
    "       \n",
    " <h4 class=\"card-header\">Héctor Daniel Estrada Rodríguez, &emsp;&emsp; Yared Ismael Flores Jiménez</h4> \n",
    "  <div class=\"card-body\">\n",
    "      <h5 class=\"card-title\"><a href=\"mailto:daniel.estrada@iteso.mx\">daniel.estrada@iteso.mx</a>, &emsp;&emsp;&emsp;&emsp;&emsp;&emsp; <a href=\"mailto:yared.flores@iteso.mx\">yared.flores@iteso.mx</a></h5>   \n",
    "  </div>\n",
    "       \n",
    "</div>\n",
    "    \n",
    "  </fieldset>\n",
    "</form>"
   ]
  },
  {
   "cell_type": "markdown",
   "metadata": {},
   "source": [
    " "
   ]
  },
  {
   "cell_type": "markdown",
   "metadata": {},
   "source": [
    "---"
   ]
  },
  {
   "cell_type": "markdown",
   "metadata": {},
   "source": [
    "<div class=\"list-group\" id=\"list-tab\" role=\"tablist\">\n",
    "  <h3 class=\"list-group-item list-group-item-action active\" data-toggle=\"list\"  role=\"tab\" aria-controls=\"home\" style=\"background-color:#004270;\">Notebook Content</h3>\n",
    "    <a class=\"list-group-item list-group-item-action\" data-toggle=\"list\" href=\"#pre\" role=\"tab\" aria-controls=\"profile\">Data Preprocessing<span class=\"badge badge-primary badge-pill\">1</span></a>\n",
    "    <a class=\"list-group-item list-group-item-action\" data-toggle=\"list\" href=\"#balance\" role=\"tab\" aria-controls=\"messages\">Balancing class distribution<span class=\"badge badge-primary badge-pill\">2</span></a>\n",
    "    <a class=\"list-group-item list-group-item-action\" data-toggle=\"list\" href=\"#vect\" role=\"tab\" aria-controls=\"messages\">Vectorization<span class=\"badge badge-primary badge-pill\">3</span></a>\n",
    "    <a class=\"list-group-item list-group-item-action\" data-toggle=\"list\" href=\"#split\" role=\"tab\" aria-controls=\"messages\">Data Splitting<span class=\"badge badge-primary badge-pill\">4</span></a>\n",
    "    <a class=\"list-group-item list-group-item-action\" data-toggle=\"list\" href=\"#model\" role=\"tab\" aria-controls=\"messages\">Data Modeling<span class=\"badge badge-primary badge-pill\">5</span></a>\n",
    "    <a class=\"list-group-item list-group-item-action\" data-toggle=\"list\" href=\"#class\" role=\"tab\" aria-controls=\"messages\">Classification<span class=\"badge badge-primary badge-pill\">6</span></a>\n",
    "    <a class=\"list-group-item list-group-item-action\" data-toggle=\"list\" href=\"#auc\" role=\"tab\" aria-controls=\"messages\">Model Performance<span class=\"badge badge-primary badge-pill\">7</span></a>\n",
    "    <a class=\"list-group-item list-group-item-action\" data-toggle=\"list\" href=\"#bott\" role=\"tab\" aria-controls=\"messages\">Conclusion - Notes - Comments<span class=\"badge badge-primary badge-pill\">8</span></a>\n",
    "</div>"
   ]
  },
  {
   "cell_type": "markdown",
   "metadata": {},
   "source": [
    "# Alternative Table of Contents\n",
    "\n",
    "* 1 [Abstract](#abstract)\n",
    "* 2 [About Sentiment Analysis](#about)\n",
    "* 3 [Motivation](#motivation)\n",
    "* 4 [Objectives](#objectives)\n",
    "* 5 [Theoretical Framework](#theoretical)\n",
    "* 6 [Descriptive Analysis](#descriptive)\n",
    "* 7 [Predictive Analysis](#predicitive)\n",
    "    - I [Data Preprocessing](#pre)\n",
    "    - II [Balancing class distribution](#balance)\n",
    "    - III [Vectorization](#vect)\n",
    "    - IV [Data Splitting](#split)\n",
    "    - IV [Data Splitting](#model)\n",
    "    - V [Classification](#class)\n",
    "    - VII [Model Performance](#auc)\n",
    "    - VIII [Conclusions - Notes - Comments](#bott)    "
   ]
  },
  {
   "cell_type": "markdown",
   "metadata": {},
   "source": [
    "---"
   ]
  },
  {
   "cell_type": "markdown",
   "metadata": {},
   "source": [
    "# 1 Abstract <a id='abstract'></a>\n",
    "-----\n",
    "Amazon a world-wide known company, is the largest online retailer in the world. In that sense, the size of daily buying transactions, constitutes an incredible source of information for data geeks like us. Amazon is a company that not only keeps track of the final transactions, it also collects information before and after the final purchase.\n",
    "\n",
    "For this project, an **Amazon dataset with customer's reviews and ratings** about the  smartphone has been used. \n",
    "    \n",
    "The present's project idea consists to use techniques of Natural Languange Processing to run a sentiment analysis under the constraint of a supervised model that can **predict whether the customer review was a positive or a negative one**.    "
   ]
  },
  {
   "cell_type": "markdown",
   "metadata": {},
   "source": [
    "# 2 About Sentiment Analysis <a id='about'></a>\n",
    "------\n",
    "\n",
    " Sentiment analysis, which is also called opinion mining, has been one of the most active research areas in natural language processing since early 2000. \n",
    "\n",
    " The aim of sentiment analysis is to define automatic tools able to extract subjective information from texts in natural language, such as opinions and sentiments,   so as to create structured and actionable knowledge to be used by either a decision support system or a decision maker. For applications that range from marketing to customer service to clinical medicine.\n",
    "\n",
    " From the definition of sentiment analysis , “the aim of sentiment analysis is therefore to define automatic tools able to extract subjective information in order to create structured and actionable knowledge.”    "
   ]
  },
  {
   "cell_type": "markdown",
   "metadata": {},
   "source": [
    "# 3 Motivation <a id='motivation'></a>\n",
    "------\n",
    "\n",
    "Before the arrival of Machine Learning, its techniques and tools that implied effort to classify opinions might have been demanding in extreme, if not a nightmare.\n",
    "\n",
    "Today, tons and tons of data are daily generated containing opoinions and sentiments of people regarding a broad type of topics. We all as consumers try to find the best product for our needs and backup our buying decisions in a reliable process rather than just a feeling.\n",
    "\n",
    "And since, nowadays social media and specialized blogs and other kind of places use to externalize and share opinions over service products all these represent information of great potential and value.\n",
    "\n",
    " Based on all these ideas and considering the received instruction on Support Vector Machines this semester, we considered this project could represent a good exercise to set up a method of decision making to fugure out the reception and acceptance of products like smartphones "
   ]
  },
  {
   "cell_type": "markdown",
   "metadata": {},
   "source": [
    "# 4 Objectives <a id='objectives'></a>\n",
    "-----\n",
    "1. Will demonstrate how the use of natural language processing techniques can produce the right input for a SVM analysis for classification\n",
    "\n",
    "2. Will show the results obtained by SVM and contrast the accuracy of the model via a supervised approach"
   ]
  },
  {
   "cell_type": "markdown",
   "metadata": {},
   "source": [
    "# 5 Theoretical  Framework <a id='theoretical'></a>\n",
    "-----\n",
    "\n",
    "To accomplish the idea behind this project we need to understand that in Machine Learning algorithms cannot work with raw data text directly. Rather the text must be converted into vector numbers.\n",
    "\n",
    "In natural Language processing, a common technique for extracting features from text is to place all of the words that occur in the text in a bucket. \n",
    "\n",
    "This approach is called *bag of words* model or *BoW* for short. It is referred to as a \"bag\" of words because any information about the structure of the sentence is lost. "
   ]
  },
  {
   "cell_type": "markdown",
   "metadata": {},
   "source": [
    "# 6 Descriptive Analysis <a id='descriptive'></a>"
   ]
  },
  {
   "cell_type": "markdown",
   "metadata": {},
   "source": [
    "A dataset from  [Kaggle Web Site](https://www.kaggle.com/) was employed for the purpose of this project. This dataset defines the next set of features/variables:\n",
    "\n",
    "- Product Name\n",
    "- Brand Name\n",
    "- Price\n",
    "- Rating\n",
    "- Reviews\n",
    "- Votes"
   ]
  },
  {
   "cell_type": "markdown",
   "metadata": {},
   "source": [
    "Something important to point out is that the idea to keep special attention on these two variables: *Rating* and *Reviews*. "
   ]
  },
  {
   "cell_type": "markdown",
   "metadata": {},
   "source": [
    "***Rating variable***    \n",
    "- The Rating variable is a categorical variable that stores a numerical values from a scale of 1 to 5 (the 1 to 5 star rating of Amazon) \n",
    "- The Review is the dataset feature that holds the raw text for the comments posted by every customer.  "
   ]
  },
  {
   "cell_type": "markdown",
   "metadata": {},
   "source": [
    "# 7 Predictive Analysis <a id='predicitive'></a>"
   ]
  },
  {
   "cell_type": "markdown",
   "metadata": {},
   "source": [
    "### I. Data Preprocessing <a id='pre'></a>"
   ]
  },
  {
   "cell_type": "code",
   "execution_count": 1,
   "metadata": {
    "ExecuteTime": {
     "end_time": "2021-12-05T17:10:27.448053Z",
     "start_time": "2021-12-05T17:10:18.564167Z"
    }
   },
   "outputs": [],
   "source": [
    "import sklearn.svm\n",
    "import numpy as np\n",
    "import pandas as pd\n",
    "import matplotlib.pyplot as plt\n",
    "import seaborn as sns"
   ]
  },
  {
   "cell_type": "code",
   "execution_count": 2,
   "metadata": {
    "ExecuteTime": {
     "end_time": "2021-12-05T17:10:28.108730Z",
     "start_time": "2021-12-05T17:10:27.453055Z"
    }
   },
   "outputs": [],
   "source": [
    "from imblearn.over_sampling import SMOTE"
   ]
  },
  {
   "cell_type": "code",
   "execution_count": 3,
   "metadata": {
    "ExecuteTime": {
     "end_time": "2021-12-05T17:10:33.088163Z",
     "start_time": "2021-12-05T17:10:28.120467Z"
    }
   },
   "outputs": [],
   "source": [
    "data  = pd.read_csv('Amazon_Unlocked_Mobile.csv')"
   ]
  },
  {
   "cell_type": "code",
   "execution_count": 4,
   "metadata": {
    "ExecuteTime": {
     "end_time": "2021-12-05T17:10:33.163711Z",
     "start_time": "2021-12-05T17:10:33.093166Z"
    }
   },
   "outputs": [
    {
     "data": {
      "text/html": [
       "<div>\n",
       "<style scoped>\n",
       "    .dataframe tbody tr th:only-of-type {\n",
       "        vertical-align: middle;\n",
       "    }\n",
       "\n",
       "    .dataframe tbody tr th {\n",
       "        vertical-align: top;\n",
       "    }\n",
       "\n",
       "    .dataframe thead th {\n",
       "        text-align: right;\n",
       "    }\n",
       "</style>\n",
       "<table border=\"1\" class=\"dataframe\">\n",
       "  <thead>\n",
       "    <tr style=\"text-align: right;\">\n",
       "      <th></th>\n",
       "      <th>Product Name</th>\n",
       "      <th>Brand Name</th>\n",
       "      <th>Price</th>\n",
       "      <th>Rating</th>\n",
       "      <th>Reviews</th>\n",
       "      <th>Review Votes</th>\n",
       "    </tr>\n",
       "  </thead>\n",
       "  <tbody>\n",
       "    <tr>\n",
       "      <th>0</th>\n",
       "      <td>\"CLEAR CLEAN ESN\" Sprint EPIC 4G Galaxy SPH-D7...</td>\n",
       "      <td>Samsung</td>\n",
       "      <td>199.99</td>\n",
       "      <td>5</td>\n",
       "      <td>I feel so LUCKY to have found this used (phone...</td>\n",
       "      <td>1.0</td>\n",
       "    </tr>\n",
       "    <tr>\n",
       "      <th>1</th>\n",
       "      <td>\"CLEAR CLEAN ESN\" Sprint EPIC 4G Galaxy SPH-D7...</td>\n",
       "      <td>Samsung</td>\n",
       "      <td>199.99</td>\n",
       "      <td>4</td>\n",
       "      <td>nice phone, nice up grade from my pantach revu...</td>\n",
       "      <td>0.0</td>\n",
       "    </tr>\n",
       "    <tr>\n",
       "      <th>2</th>\n",
       "      <td>\"CLEAR CLEAN ESN\" Sprint EPIC 4G Galaxy SPH-D7...</td>\n",
       "      <td>Samsung</td>\n",
       "      <td>199.99</td>\n",
       "      <td>5</td>\n",
       "      <td>Very pleased</td>\n",
       "      <td>0.0</td>\n",
       "    </tr>\n",
       "    <tr>\n",
       "      <th>3</th>\n",
       "      <td>\"CLEAR CLEAN ESN\" Sprint EPIC 4G Galaxy SPH-D7...</td>\n",
       "      <td>Samsung</td>\n",
       "      <td>199.99</td>\n",
       "      <td>4</td>\n",
       "      <td>It works good but it goes slow sometimes but i...</td>\n",
       "      <td>0.0</td>\n",
       "    </tr>\n",
       "    <tr>\n",
       "      <th>4</th>\n",
       "      <td>\"CLEAR CLEAN ESN\" Sprint EPIC 4G Galaxy SPH-D7...</td>\n",
       "      <td>Samsung</td>\n",
       "      <td>199.99</td>\n",
       "      <td>4</td>\n",
       "      <td>Great phone to replace my lost phone. The only...</td>\n",
       "      <td>0.0</td>\n",
       "    </tr>\n",
       "    <tr>\n",
       "      <th>...</th>\n",
       "      <td>...</td>\n",
       "      <td>...</td>\n",
       "      <td>...</td>\n",
       "      <td>...</td>\n",
       "      <td>...</td>\n",
       "      <td>...</td>\n",
       "    </tr>\n",
       "    <tr>\n",
       "      <th>413835</th>\n",
       "      <td>Samsung Convoy U640 Phone for Verizon Wireless...</td>\n",
       "      <td>Samsung</td>\n",
       "      <td>79.95</td>\n",
       "      <td>5</td>\n",
       "      <td>another great deal great price</td>\n",
       "      <td>0.0</td>\n",
       "    </tr>\n",
       "    <tr>\n",
       "      <th>413836</th>\n",
       "      <td>Samsung Convoy U640 Phone for Verizon Wireless...</td>\n",
       "      <td>Samsung</td>\n",
       "      <td>79.95</td>\n",
       "      <td>3</td>\n",
       "      <td>Ok</td>\n",
       "      <td>0.0</td>\n",
       "    </tr>\n",
       "    <tr>\n",
       "      <th>413837</th>\n",
       "      <td>Samsung Convoy U640 Phone for Verizon Wireless...</td>\n",
       "      <td>Samsung</td>\n",
       "      <td>79.95</td>\n",
       "      <td>5</td>\n",
       "      <td>Passes every drop test onto porcelain tile!</td>\n",
       "      <td>0.0</td>\n",
       "    </tr>\n",
       "    <tr>\n",
       "      <th>413838</th>\n",
       "      <td>Samsung Convoy U640 Phone for Verizon Wireless...</td>\n",
       "      <td>Samsung</td>\n",
       "      <td>79.95</td>\n",
       "      <td>3</td>\n",
       "      <td>I returned it because it did not meet my needs...</td>\n",
       "      <td>0.0</td>\n",
       "    </tr>\n",
       "    <tr>\n",
       "      <th>413839</th>\n",
       "      <td>Samsung Convoy U640 Phone for Verizon Wireless...</td>\n",
       "      <td>Samsung</td>\n",
       "      <td>79.95</td>\n",
       "      <td>4</td>\n",
       "      <td>Only downside is that apparently Verizon no lo...</td>\n",
       "      <td>0.0</td>\n",
       "    </tr>\n",
       "  </tbody>\n",
       "</table>\n",
       "<p>413840 rows × 6 columns</p>\n",
       "</div>"
      ],
      "text/plain": [
       "                                             Product Name Brand Name   Price  \\\n",
       "0       \"CLEAR CLEAN ESN\" Sprint EPIC 4G Galaxy SPH-D7...    Samsung  199.99   \n",
       "1       \"CLEAR CLEAN ESN\" Sprint EPIC 4G Galaxy SPH-D7...    Samsung  199.99   \n",
       "2       \"CLEAR CLEAN ESN\" Sprint EPIC 4G Galaxy SPH-D7...    Samsung  199.99   \n",
       "3       \"CLEAR CLEAN ESN\" Sprint EPIC 4G Galaxy SPH-D7...    Samsung  199.99   \n",
       "4       \"CLEAR CLEAN ESN\" Sprint EPIC 4G Galaxy SPH-D7...    Samsung  199.99   \n",
       "...                                                   ...        ...     ...   \n",
       "413835  Samsung Convoy U640 Phone for Verizon Wireless...    Samsung   79.95   \n",
       "413836  Samsung Convoy U640 Phone for Verizon Wireless...    Samsung   79.95   \n",
       "413837  Samsung Convoy U640 Phone for Verizon Wireless...    Samsung   79.95   \n",
       "413838  Samsung Convoy U640 Phone for Verizon Wireless...    Samsung   79.95   \n",
       "413839  Samsung Convoy U640 Phone for Verizon Wireless...    Samsung   79.95   \n",
       "\n",
       "        Rating                                            Reviews  \\\n",
       "0            5  I feel so LUCKY to have found this used (phone...   \n",
       "1            4  nice phone, nice up grade from my pantach revu...   \n",
       "2            5                                       Very pleased   \n",
       "3            4  It works good but it goes slow sometimes but i...   \n",
       "4            4  Great phone to replace my lost phone. The only...   \n",
       "...        ...                                                ...   \n",
       "413835       5                     another great deal great price   \n",
       "413836       3                                                 Ok   \n",
       "413837       5        Passes every drop test onto porcelain tile!   \n",
       "413838       3  I returned it because it did not meet my needs...   \n",
       "413839       4  Only downside is that apparently Verizon no lo...   \n",
       "\n",
       "        Review Votes  \n",
       "0                1.0  \n",
       "1                0.0  \n",
       "2                0.0  \n",
       "3                0.0  \n",
       "4                0.0  \n",
       "...              ...  \n",
       "413835           0.0  \n",
       "413836           0.0  \n",
       "413837           0.0  \n",
       "413838           0.0  \n",
       "413839           0.0  \n",
       "\n",
       "[413840 rows x 6 columns]"
      ]
     },
     "execution_count": 4,
     "metadata": {},
     "output_type": "execute_result"
    }
   ],
   "source": [
    "data"
   ]
  },
  {
   "cell_type": "markdown",
   "metadata": {},
   "source": [
    "#### Drop all nans"
   ]
  },
  {
   "cell_type": "markdown",
   "metadata": {},
   "source": [
    "Removing all rows from the data frame containing missing values."
   ]
  },
  {
   "cell_type": "code",
   "execution_count": 5,
   "metadata": {
    "ExecuteTime": {
     "end_time": "2021-12-05T17:10:33.373889Z",
     "start_time": "2021-12-05T17:10:33.168740Z"
    }
   },
   "outputs": [],
   "source": [
    "data=data.dropna()"
   ]
  },
  {
   "cell_type": "code",
   "execution_count": 6,
   "metadata": {
    "ExecuteTime": {
     "end_time": "2021-12-05T17:10:33.403890Z",
     "start_time": "2021-12-05T17:10:33.379892Z"
    }
   },
   "outputs": [],
   "source": [
    "data_proc = data.copy()"
   ]
  },
  {
   "cell_type": "code",
   "execution_count": 7,
   "metadata": {
    "ExecuteTime": {
     "end_time": "2021-12-05T17:10:33.479193Z",
     "start_time": "2021-12-05T17:10:33.409916Z"
    }
   },
   "outputs": [],
   "source": [
    "data_proc = data_proc.loc[data_proc[\"Rating\"]!=3]"
   ]
  },
  {
   "cell_type": "code",
   "execution_count": 8,
   "metadata": {
    "ExecuteTime": {
     "end_time": "2021-12-05T17:10:33.509089Z",
     "start_time": "2021-12-05T17:10:33.486091Z"
    }
   },
   "outputs": [
    {
     "data": {
      "text/html": [
       "<div>\n",
       "<style scoped>\n",
       "    .dataframe tbody tr th:only-of-type {\n",
       "        vertical-align: middle;\n",
       "    }\n",
       "\n",
       "    .dataframe tbody tr th {\n",
       "        vertical-align: top;\n",
       "    }\n",
       "\n",
       "    .dataframe thead th {\n",
       "        text-align: right;\n",
       "    }\n",
       "</style>\n",
       "<table border=\"1\" class=\"dataframe\">\n",
       "  <thead>\n",
       "    <tr style=\"text-align: right;\">\n",
       "      <th></th>\n",
       "      <th>Product Name</th>\n",
       "      <th>Brand Name</th>\n",
       "      <th>Price</th>\n",
       "      <th>Rating</th>\n",
       "      <th>Reviews</th>\n",
       "      <th>Review Votes</th>\n",
       "    </tr>\n",
       "  </thead>\n",
       "  <tbody>\n",
       "  </tbody>\n",
       "</table>\n",
       "</div>"
      ],
      "text/plain": [
       "Empty DataFrame\n",
       "Columns: [Product Name, Brand Name, Price, Rating, Reviews, Review Votes]\n",
       "Index: []"
      ]
     },
     "execution_count": 8,
     "metadata": {},
     "output_type": "execute_result"
    }
   ],
   "source": [
    "data_proc[data_proc[\"Rating\"]==3]"
   ]
  },
  {
   "cell_type": "code",
   "execution_count": 9,
   "metadata": {
    "ExecuteTime": {
     "end_time": "2021-12-05T17:10:33.524090Z",
     "start_time": "2021-12-05T17:10:33.515193Z"
    }
   },
   "outputs": [],
   "source": [
    "def transform(x):\n",
    "    if x <= 2:\n",
    "        return -1\n",
    "    if x > 2:\n",
    "        return 1"
   ]
  },
  {
   "cell_type": "code",
   "execution_count": 10,
   "metadata": {
    "ExecuteTime": {
     "end_time": "2021-12-05T17:10:33.839821Z",
     "start_time": "2021-12-05T17:10:33.528091Z"
    }
   },
   "outputs": [],
   "source": [
    "data_proc[\"Rating\"] = data_proc['Rating'].map(transform)"
   ]
  },
  {
   "cell_type": "code",
   "execution_count": 11,
   "metadata": {
    "ExecuteTime": {
     "end_time": "2021-12-05T17:10:33.944754Z",
     "start_time": "2021-12-05T17:10:33.846679Z"
    }
   },
   "outputs": [
    {
     "data": {
      "text/html": [
       "<div>\n",
       "<style scoped>\n",
       "    .dataframe tbody tr th:only-of-type {\n",
       "        vertical-align: middle;\n",
       "    }\n",
       "\n",
       "    .dataframe tbody tr th {\n",
       "        vertical-align: top;\n",
       "    }\n",
       "\n",
       "    .dataframe thead th {\n",
       "        text-align: right;\n",
       "    }\n",
       "</style>\n",
       "<table border=\"1\" class=\"dataframe\">\n",
       "  <thead>\n",
       "    <tr style=\"text-align: right;\">\n",
       "      <th></th>\n",
       "      <th>Product Name</th>\n",
       "      <th>Brand Name</th>\n",
       "      <th>Price</th>\n",
       "      <th>Rating</th>\n",
       "      <th>Reviews</th>\n",
       "      <th>Review Votes</th>\n",
       "    </tr>\n",
       "  </thead>\n",
       "  <tbody>\n",
       "    <tr>\n",
       "      <th>0</th>\n",
       "      <td>\"CLEAR CLEAN ESN\" Sprint EPIC 4G Galaxy SPH-D7...</td>\n",
       "      <td>Samsung</td>\n",
       "      <td>199.99</td>\n",
       "      <td>1</td>\n",
       "      <td>I feel so LUCKY to have found this used (phone...</td>\n",
       "      <td>1.0</td>\n",
       "    </tr>\n",
       "    <tr>\n",
       "      <th>1</th>\n",
       "      <td>\"CLEAR CLEAN ESN\" Sprint EPIC 4G Galaxy SPH-D7...</td>\n",
       "      <td>Samsung</td>\n",
       "      <td>199.99</td>\n",
       "      <td>1</td>\n",
       "      <td>nice phone, nice up grade from my pantach revu...</td>\n",
       "      <td>0.0</td>\n",
       "    </tr>\n",
       "    <tr>\n",
       "      <th>2</th>\n",
       "      <td>\"CLEAR CLEAN ESN\" Sprint EPIC 4G Galaxy SPH-D7...</td>\n",
       "      <td>Samsung</td>\n",
       "      <td>199.99</td>\n",
       "      <td>1</td>\n",
       "      <td>Very pleased</td>\n",
       "      <td>0.0</td>\n",
       "    </tr>\n",
       "    <tr>\n",
       "      <th>3</th>\n",
       "      <td>\"CLEAR CLEAN ESN\" Sprint EPIC 4G Galaxy SPH-D7...</td>\n",
       "      <td>Samsung</td>\n",
       "      <td>199.99</td>\n",
       "      <td>1</td>\n",
       "      <td>It works good but it goes slow sometimes but i...</td>\n",
       "      <td>0.0</td>\n",
       "    </tr>\n",
       "    <tr>\n",
       "      <th>4</th>\n",
       "      <td>\"CLEAR CLEAN ESN\" Sprint EPIC 4G Galaxy SPH-D7...</td>\n",
       "      <td>Samsung</td>\n",
       "      <td>199.99</td>\n",
       "      <td>1</td>\n",
       "      <td>Great phone to replace my lost phone. The only...</td>\n",
       "      <td>0.0</td>\n",
       "    </tr>\n",
       "    <tr>\n",
       "      <th>...</th>\n",
       "      <td>...</td>\n",
       "      <td>...</td>\n",
       "      <td>...</td>\n",
       "      <td>...</td>\n",
       "      <td>...</td>\n",
       "      <td>...</td>\n",
       "    </tr>\n",
       "    <tr>\n",
       "      <th>413830</th>\n",
       "      <td>Samsung Convoy U640 Phone for Verizon Wireless...</td>\n",
       "      <td>Samsung</td>\n",
       "      <td>79.95</td>\n",
       "      <td>1</td>\n",
       "      <td>LOVE IT</td>\n",
       "      <td>0.0</td>\n",
       "    </tr>\n",
       "    <tr>\n",
       "      <th>413832</th>\n",
       "      <td>Samsung Convoy U640 Phone for Verizon Wireless...</td>\n",
       "      <td>Samsung</td>\n",
       "      <td>79.95</td>\n",
       "      <td>1</td>\n",
       "      <td>good rugged phone that has a long-lasting batt...</td>\n",
       "      <td>0.0</td>\n",
       "    </tr>\n",
       "    <tr>\n",
       "      <th>413835</th>\n",
       "      <td>Samsung Convoy U640 Phone for Verizon Wireless...</td>\n",
       "      <td>Samsung</td>\n",
       "      <td>79.95</td>\n",
       "      <td>1</td>\n",
       "      <td>another great deal great price</td>\n",
       "      <td>0.0</td>\n",
       "    </tr>\n",
       "    <tr>\n",
       "      <th>413837</th>\n",
       "      <td>Samsung Convoy U640 Phone for Verizon Wireless...</td>\n",
       "      <td>Samsung</td>\n",
       "      <td>79.95</td>\n",
       "      <td>1</td>\n",
       "      <td>Passes every drop test onto porcelain tile!</td>\n",
       "      <td>0.0</td>\n",
       "    </tr>\n",
       "    <tr>\n",
       "      <th>413839</th>\n",
       "      <td>Samsung Convoy U640 Phone for Verizon Wireless...</td>\n",
       "      <td>Samsung</td>\n",
       "      <td>79.95</td>\n",
       "      <td>1</td>\n",
       "      <td>Only downside is that apparently Verizon no lo...</td>\n",
       "      <td>0.0</td>\n",
       "    </tr>\n",
       "  </tbody>\n",
       "</table>\n",
       "<p>230674 rows × 6 columns</p>\n",
       "</div>"
      ],
      "text/plain": [
       "                                             Product Name Brand Name   Price  \\\n",
       "0       \"CLEAR CLEAN ESN\" Sprint EPIC 4G Galaxy SPH-D7...    Samsung  199.99   \n",
       "1       \"CLEAR CLEAN ESN\" Sprint EPIC 4G Galaxy SPH-D7...    Samsung  199.99   \n",
       "2       \"CLEAR CLEAN ESN\" Sprint EPIC 4G Galaxy SPH-D7...    Samsung  199.99   \n",
       "3       \"CLEAR CLEAN ESN\" Sprint EPIC 4G Galaxy SPH-D7...    Samsung  199.99   \n",
       "4       \"CLEAR CLEAN ESN\" Sprint EPIC 4G Galaxy SPH-D7...    Samsung  199.99   \n",
       "...                                                   ...        ...     ...   \n",
       "413830  Samsung Convoy U640 Phone for Verizon Wireless...    Samsung   79.95   \n",
       "413832  Samsung Convoy U640 Phone for Verizon Wireless...    Samsung   79.95   \n",
       "413835  Samsung Convoy U640 Phone for Verizon Wireless...    Samsung   79.95   \n",
       "413837  Samsung Convoy U640 Phone for Verizon Wireless...    Samsung   79.95   \n",
       "413839  Samsung Convoy U640 Phone for Verizon Wireless...    Samsung   79.95   \n",
       "\n",
       "        Rating                                            Reviews  \\\n",
       "0            1  I feel so LUCKY to have found this used (phone...   \n",
       "1            1  nice phone, nice up grade from my pantach revu...   \n",
       "2            1                                       Very pleased   \n",
       "3            1  It works good but it goes slow sometimes but i...   \n",
       "4            1  Great phone to replace my lost phone. The only...   \n",
       "...        ...                                                ...   \n",
       "413830       1                                            LOVE IT   \n",
       "413832       1  good rugged phone that has a long-lasting batt...   \n",
       "413835       1                     another great deal great price   \n",
       "413837       1        Passes every drop test onto porcelain tile!   \n",
       "413839       1  Only downside is that apparently Verizon no lo...   \n",
       "\n",
       "        Review Votes  \n",
       "0                1.0  \n",
       "1                0.0  \n",
       "2                0.0  \n",
       "3                0.0  \n",
       "4                0.0  \n",
       "...              ...  \n",
       "413830           0.0  \n",
       "413832           0.0  \n",
       "413835           0.0  \n",
       "413837           0.0  \n",
       "413839           0.0  \n",
       "\n",
       "[230674 rows x 6 columns]"
      ]
     },
     "execution_count": 11,
     "metadata": {},
     "output_type": "execute_result"
    }
   ],
   "source": [
    "data_proc[data_proc['Rating']==1]"
   ]
  },
  {
   "cell_type": "code",
   "execution_count": 12,
   "metadata": {
    "ExecuteTime": {
     "end_time": "2021-12-05T17:10:35.707610Z",
     "start_time": "2021-12-05T17:10:33.949999Z"
    }
   },
   "outputs": [
    {
     "data": {
      "text/plain": [
       "<AxesSubplot:>"
      ]
     },
     "execution_count": 12,
     "metadata": {},
     "output_type": "execute_result"
    },
    {
     "data": {
      "image/png": "[encoded data removed]",
      "text/plain": [
       "<Figure size 432x288 with 1 Axes>"
      ]
     },
     "metadata": {
      "needs_background": "light"
     },
     "output_type": "display_data"
    }
   ],
   "source": [
    "data_proc[\"Rating\"].hist()"
   ]
  },
  {
   "cell_type": "markdown",
   "metadata": {},
   "source": [
    "---"
   ]
  },
  {
   "cell_type": "markdown",
   "metadata": {},
   "source": [
    "### II. Balancing class distribution <a id='balance'></a>"
   ]
  },
  {
   "cell_type": "markdown",
   "metadata": {},
   "source": [
    "#### Imbalance Dataset (Undersampling)"
   ]
  },
  {
   "cell_type": "code",
   "execution_count": 13,
   "metadata": {
    "ExecuteTime": {
     "end_time": "2021-12-05T17:10:35.858687Z",
     "start_time": "2021-12-05T17:10:35.712605Z"
    }
   },
   "outputs": [],
   "source": [
    "# Shuffle the Dataset.\n",
    "shuffled_df = data_proc.sample(frac=1,random_state=4)"
   ]
  },
  {
   "cell_type": "code",
   "execution_count": 14,
   "metadata": {
    "ExecuteTime": {
     "end_time": "2021-12-05T17:10:35.888654Z",
     "start_time": "2021-12-05T17:10:35.864445Z"
    }
   },
   "outputs": [],
   "source": [
    "# Put all the fraud class in a separate dataset.\n",
    "negative_review_df = shuffled_df.loc[shuffled_df['Rating'] == -1]"
   ]
  },
  {
   "cell_type": "code",
   "execution_count": 15,
   "metadata": {
    "ExecuteTime": {
     "end_time": "2021-12-05T17:10:36.132086Z",
     "start_time": "2021-12-05T17:10:35.894788Z"
    }
   },
   "outputs": [],
   "source": [
    "#Randomly select 492 observations from the non-fraud (majority class)\n",
    "positive_review_df = shuffled_df.loc[shuffled_df['Rating'] == 1].sample(n=100000,random_state=42)"
   ]
  },
  {
   "cell_type": "code",
   "execution_count": 16,
   "metadata": {
    "ExecuteTime": {
     "end_time": "2021-12-05T17:10:36.253400Z",
     "start_time": "2021-12-05T17:10:36.147187Z"
    }
   },
   "outputs": [],
   "source": [
    "# Concatenate both dataframes again\n",
    "data_proc_balanced = pd.concat([negative_review_df, positive_review_df])"
   ]
  },
  {
   "cell_type": "code",
   "execution_count": 17,
   "metadata": {
    "ExecuteTime": {
     "end_time": "2021-12-05T17:10:36.647481Z",
     "start_time": "2021-12-05T17:10:36.258107Z"
    }
   },
   "outputs": [
    {
     "name": "stderr",
     "output_type": "stream",
     "text": [
      "C:\\Users\\uib47087\\Anaconda3\\envs\\mineria\\lib\\site-packages\\seaborn\\_decorators.py:43: FutureWarning: Pass the following variable as a keyword arg: x. From version 0.12, the only valid positional argument will be `data`, and passing other arguments without an explicit keyword will result in an error or misinterpretation.\n",
      "  FutureWarning\n"
     ]
    },
    {
     "data": {
      "image/png": "[encoded data removed]",
      "text/plain": [
       "<Figure size 576x576 with 1 Axes>"
      ]
     },
     "metadata": {
      "needs_background": "light"
     },
     "output_type": "display_data"
    }
   ],
   "source": [
    "#plot the dataset after the undersampling\n",
    "plt.figure(figsize=(8, 8))\n",
    "sns.countplot('Rating', data=data_proc_balanced)\n",
    "plt.title('Balanced Rating')\n",
    "plt.show()"
   ]
  },
  {
   "cell_type": "markdown",
   "metadata": {},
   "source": [
    "#### Getting ready for SVM analysis"
   ]
  },
  {
   "cell_type": "code",
   "execution_count": 18,
   "metadata": {
    "ExecuteTime": {
     "end_time": "2021-12-05T17:10:36.798574Z",
     "start_time": "2021-12-05T17:10:36.656486Z"
    }
   },
   "outputs": [],
   "source": [
    "data_to_analyze = data_proc_balanced.sample(frac=0.25,random_state=4)"
   ]
  },
  {
   "cell_type": "code",
   "execution_count": 19,
   "metadata": {
    "ExecuteTime": {
     "end_time": "2021-12-05T17:10:37.406347Z",
     "start_time": "2021-12-05T17:10:36.808608Z"
    }
   },
   "outputs": [
    {
     "data": {
      "text/plain": [
       "<AxesSubplot:>"
      ]
     },
     "execution_count": 19,
     "metadata": {},
     "output_type": "execute_result"
    },
    {
     "data": {
      "image/png": "[encoded data removed]",
      "text/plain": [
       "<Figure size 432x288 with 1 Axes>"
      ]
     },
     "metadata": {
      "needs_background": "light"
     },
     "output_type": "display_data"
    }
   ],
   "source": [
    "data_to_analyze[\"Rating\"].hist()"
   ]
  },
  {
   "cell_type": "markdown",
   "metadata": {},
   "source": [
    "---"
   ]
  },
  {
   "cell_type": "markdown",
   "metadata": {},
   "source": [
    "### III. Vectorization <a id='vect'></a>"
   ]
  },
  {
   "cell_type": "markdown",
   "metadata": {},
   "source": [
    " "
   ]
  },
  {
   "cell_type": "markdown",
   "metadata": {},
   "source": [
    "#### Using TfidfVectorizer"
   ]
  },
  {
   "cell_type": "markdown",
   "metadata": {},
   "source": [
    " "
   ]
  },
  {
   "cell_type": "code",
   "execution_count": 20,
   "metadata": {
    "ExecuteTime": {
     "end_time": "2021-12-05T17:10:37.496678Z",
     "start_time": "2021-12-05T17:10:37.416177Z"
    }
   },
   "outputs": [],
   "source": [
    "from sklearn.feature_extraction.text import TfidfVectorizer, CountVectorizer\n",
    "from sklearn.feature_selection import SelectPercentile, f_classif, chi2"
   ]
  },
  {
   "cell_type": "code",
   "execution_count": 21,
   "metadata": {
    "ExecuteTime": {
     "end_time": "2021-12-05T17:10:37.527815Z",
     "start_time": "2021-12-05T17:10:37.503755Z"
    }
   },
   "outputs": [],
   "source": [
    "vectorizer = TfidfVectorizer(sublinear_tf= True, max_df=0.5, stop_words=\"english\")"
   ]
  },
  {
   "cell_type": "code",
   "execution_count": 22,
   "metadata": {
    "ExecuteTime": {
     "end_time": "2021-12-05T17:10:37.558412Z",
     "start_time": "2021-12-05T17:10:37.534588Z"
    }
   },
   "outputs": [],
   "source": [
    "documents = np.array(data_to_analyze[\"Reviews\"])"
   ]
  },
  {
   "cell_type": "code",
   "execution_count": 23,
   "metadata": {
    "ExecuteTime": {
     "end_time": "2021-12-05T17:10:43.256368Z",
     "start_time": "2021-12-05T17:10:37.573480Z"
    }
   },
   "outputs": [],
   "source": [
    "vectors = vectorizer.fit_transform(documents)"
   ]
  },
  {
   "cell_type": "code",
   "execution_count": 24,
   "metadata": {
    "ExecuteTime": {
     "end_time": "2021-12-05T17:10:43.286334Z",
     "start_time": "2021-12-05T17:10:43.267246Z"
    }
   },
   "outputs": [],
   "source": [
    "X = vectors\n",
    "y = data_to_analyze[\"Rating\"]"
   ]
  },
  {
   "cell_type": "code",
   "execution_count": 25,
   "metadata": {
    "ExecuteTime": {
     "end_time": "2021-12-05T17:10:43.316666Z",
     "start_time": "2021-12-05T17:10:43.293338Z"
    }
   },
   "outputs": [
    {
     "data": {
      "text/plain": [
       "<44401x26902 sparse matrix of type '<class 'numpy.float64'>'\n",
       "\twith 707178 stored elements in Compressed Sparse Row format>"
      ]
     },
     "execution_count": 25,
     "metadata": {},
     "output_type": "execute_result"
    }
   ],
   "source": [
    "X"
   ]
  },
  {
   "cell_type": "markdown",
   "metadata": {},
   "source": [
    " "
   ]
  },
  {
   "cell_type": "markdown",
   "metadata": {
    "ExecuteTime": {
     "end_time": "2021-11-23T18:14:50.394830Z",
     "start_time": "2021-11-23T18:14:50.383787Z"
    }
   },
   "source": [
    "#### Using Custom TfidfVectorizer"
   ]
  },
  {
   "cell_type": "markdown",
   "metadata": {},
   "source": [
    " "
   ]
  },
  {
   "cell_type": "code",
   "execution_count": 26,
   "metadata": {
    "ExecuteTime": {
     "end_time": "2021-12-05T17:10:44.731788Z",
     "start_time": "2021-12-05T17:10:43.323550Z"
    }
   },
   "outputs": [],
   "source": [
    "import re\n",
    "import string\n",
    "from nltk.stem import SnowballStemmer\n",
    "from nltk.corpus import stopwords"
   ]
  },
  {
   "cell_type": "code",
   "execution_count": 27,
   "metadata": {
    "ExecuteTime": {
     "end_time": "2021-12-05T17:10:44.776792Z",
     "start_time": "2021-12-05T17:10:44.737966Z"
    }
   },
   "outputs": [],
   "source": [
    "punct_marks = re.compile('[%s]' % re.escape(string.punctuation))\n",
    "\n",
    "def remove_punctuation(sentence):\n",
    "    new_sent = []\n",
    "    \n",
    "    for token in sentence.split(' '):\n",
    "        \n",
    "        # Look for emails or webpages\n",
    "        web_chrctrs = ('@','http', 'https')\n",
    "        if not any(character in token for character in web_chrctrs):\n",
    "            new_token = re.sub(punct_marks, '', token)\n",
    "            \n",
    "        else:\n",
    "            new_token = token\n",
    "            \n",
    "        if new_token:\n",
    "            new_sent.append(new_token)\n",
    "            \n",
    "    return new_sent\n",
    "\n",
    "\n",
    "stemmer = SnowballStemmer('english')\n",
    "stops = stopwords.words('english')\n",
    "\n",
    "def sent_norm(sent_):\n",
    "    sent = remove_punctuation(sent_)\n",
    "    norm_sent = [stemmer.stem(word.lower()) \n",
    "                 for word in sent if word not in stops]\n",
    "    return norm_sent\n",
    "\n",
    "custom_tfidf_vectorizer = TfidfVectorizer(tokenizer=sent_norm)"
   ]
  },
  {
   "cell_type": "code",
   "execution_count": 28,
   "metadata": {
    "ExecuteTime": {
     "end_time": "2021-12-05T17:12:15.585673Z",
     "start_time": "2021-12-05T17:10:44.785580Z"
    }
   },
   "outputs": [
    {
     "data": {
      "text/plain": [
       "<44401x34257 sparse matrix of type '<class 'numpy.float64'>'\n",
       "\twith 807784 stored elements in Compressed Sparse Row format>"
      ]
     },
     "execution_count": 28,
     "metadata": {},
     "output_type": "execute_result"
    }
   ],
   "source": [
    "vectors2 = custom_tfidf_vectorizer.fit_transform(documents)\n",
    "X2 = vectors2\n",
    "X2"
   ]
  },
  {
   "cell_type": "markdown",
   "metadata": {},
   "source": [
    " "
   ]
  },
  {
   "cell_type": "markdown",
   "metadata": {},
   "source": [
    "#### Using CountVectorizer"
   ]
  },
  {
   "cell_type": "markdown",
   "metadata": {},
   "source": [
    " "
   ]
  },
  {
   "cell_type": "code",
   "execution_count": 29,
   "metadata": {
    "ExecuteTime": {
     "end_time": "2021-12-05T17:12:15.600859Z",
     "start_time": "2021-12-05T17:12:15.591688Z"
    }
   },
   "outputs": [],
   "source": [
    "from sklearn.feature_extraction.text import CountVectorizer"
   ]
  },
  {
   "cell_type": "code",
   "execution_count": 30,
   "metadata": {
    "ExecuteTime": {
     "end_time": "2021-12-05T17:12:20.609434Z",
     "start_time": "2021-12-05T17:12:15.607646Z"
    }
   },
   "outputs": [],
   "source": [
    "count_vectorizer = CountVectorizer()\n",
    "vectors3 = count_vectorizer.fit_transform(documents)"
   ]
  },
  {
   "cell_type": "code",
   "execution_count": 31,
   "metadata": {
    "ExecuteTime": {
     "end_time": "2021-12-05T17:12:20.639452Z",
     "start_time": "2021-12-05T17:12:20.613446Z"
    }
   },
   "outputs": [
    {
     "data": {
      "text/plain": [
       "<44401x27206 sparse matrix of type '<class 'numpy.int64'>'\n",
       "\twith 1257794 stored elements in Compressed Sparse Row format>"
      ]
     },
     "execution_count": 31,
     "metadata": {},
     "output_type": "execute_result"
    }
   ],
   "source": [
    "X3 = vectors3\n",
    "X3"
   ]
  },
  {
   "cell_type": "markdown",
   "metadata": {},
   "source": [
    "#### Using Ngrams"
   ]
  },
  {
   "cell_type": "code",
   "execution_count": 32,
   "metadata": {
    "ExecuteTime": {
     "end_time": "2021-12-05T17:12:35.037378Z",
     "start_time": "2021-12-05T17:12:20.649029Z"
    }
   },
   "outputs": [],
   "source": [
    "cv_ngrams_vectorizer = CountVectorizer(ngram_range=(1,2))\n",
    "vectors4 = cv_ngrams_vectorizer.fit_transform(documents)"
   ]
  },
  {
   "cell_type": "code",
   "execution_count": 33,
   "metadata": {
    "ExecuteTime": {
     "end_time": "2021-12-05T17:12:35.067865Z",
     "start_time": "2021-12-05T17:12:35.043197Z"
    }
   },
   "outputs": [
    {
     "data": {
      "text/plain": [
       "<44401x373603 sparse matrix of type '<class 'numpy.int64'>'\n",
       "\twith 2901081 stored elements in Compressed Sparse Row format>"
      ]
     },
     "execution_count": 33,
     "metadata": {},
     "output_type": "execute_result"
    }
   ],
   "source": [
    "X4 = vectors4\n",
    "X4"
   ]
  },
  {
   "cell_type": "markdown",
   "metadata": {},
   "source": [
    " "
   ]
  },
  {
   "cell_type": "markdown",
   "metadata": {},
   "source": [
    "--- "
   ]
  },
  {
   "cell_type": "markdown",
   "metadata": {},
   "source": [
    "### IV. Data Splitting <a id='split'></a>"
   ]
  },
  {
   "cell_type": "markdown",
   "metadata": {},
   "source": [
    " "
   ]
  },
  {
   "cell_type": "code",
   "execution_count": 34,
   "metadata": {
    "ExecuteTime": {
     "end_time": "2021-12-05T17:12:35.082926Z",
     "start_time": "2021-12-05T17:12:35.074979Z"
    }
   },
   "outputs": [],
   "source": [
    "from sklearn.model_selection import train_test_split"
   ]
  },
  {
   "cell_type": "markdown",
   "metadata": {},
   "source": [
    "Using the vectors from the Standard Tfidf"
   ]
  },
  {
   "cell_type": "code",
   "execution_count": 35,
   "metadata": {
    "ExecuteTime": {
     "end_time": "2021-12-05T17:12:35.128380Z",
     "start_time": "2021-12-05T17:12:35.091926Z"
    }
   },
   "outputs": [],
   "source": [
    "X_train, X_test, y_train, y_test = train_test_split(X, y, test_size = 0.25, random_state = 0)"
   ]
  },
  {
   "cell_type": "markdown",
   "metadata": {},
   "source": [
    "Using the vectors from the Custom Tfidf"
   ]
  },
  {
   "cell_type": "code",
   "execution_count": 36,
   "metadata": {
    "ExecuteTime": {
     "end_time": "2021-12-05T17:12:35.189357Z",
     "start_time": "2021-12-05T17:12:35.136344Z"
    }
   },
   "outputs": [],
   "source": [
    "X2_train, X2_test, y2_train, y2_test = train_test_split(X2, y, test_size = 0.25, random_state = 0)"
   ]
  },
  {
   "cell_type": "markdown",
   "metadata": {},
   "source": [
    "Using the vectors from the Count Vectorizer"
   ]
  },
  {
   "cell_type": "code",
   "execution_count": 37,
   "metadata": {
    "ExecuteTime": {
     "end_time": "2021-12-05T17:12:35.234622Z",
     "start_time": "2021-12-05T17:12:35.196229Z"
    }
   },
   "outputs": [],
   "source": [
    "X3_train, X3_test, y3_train, y3_test = train_test_split(X3, y, test_size = 0.25, random_state = 0)"
   ]
  },
  {
   "cell_type": "markdown",
   "metadata": {},
   "source": [
    "Using the vectors from the Count Vectorizer (with Ngrams)"
   ]
  },
  {
   "cell_type": "code",
   "execution_count": 38,
   "metadata": {
    "ExecuteTime": {
     "end_time": "2021-12-05T17:12:35.294597Z",
     "start_time": "2021-12-05T17:12:35.239161Z"
    }
   },
   "outputs": [],
   "source": [
    "X4_train, X4_test, y4_train, y4_test = train_test_split(X4, y, test_size = 0.25, random_state = 0)"
   ]
  },
  {
   "cell_type": "markdown",
   "metadata": {},
   "source": [
    " "
   ]
  },
  {
   "cell_type": "markdown",
   "metadata": {},
   "source": [
    "--- "
   ]
  },
  {
   "cell_type": "markdown",
   "metadata": {
    "ExecuteTime": {
     "end_time": "2021-11-23T18:18:05.068353Z",
     "start_time": "2021-11-23T18:18:05.065352Z"
    }
   },
   "source": [
    "### IV. Data Modeling <a id='model'></a>"
   ]
  },
  {
   "cell_type": "markdown",
   "metadata": {},
   "source": [
    " "
   ]
  },
  {
   "cell_type": "code",
   "execution_count": 39,
   "metadata": {
    "ExecuteTime": {
     "end_time": "2021-12-05T17:21:22.907587Z",
     "start_time": "2021-12-05T17:12:35.298598Z"
    }
   },
   "outputs": [
    {
     "data": {
      "text/plain": [
       "SVC(random_state=0)"
      ]
     },
     "execution_count": 39,
     "metadata": {},
     "output_type": "execute_result"
    }
   ],
   "source": [
    "from sklearn.svm import SVC\n",
    "classifier = SVC(random_state=0, C=1.0, kernel='rbf', gamma='scale') # for non-linear model use this parametre kernel='rbf'\n",
    "classifier.fit(X_train, y_train)"
   ]
  },
  {
   "cell_type": "code",
   "execution_count": 40,
   "metadata": {
    "ExecuteTime": {
     "end_time": "2021-12-05T17:30:43.020393Z",
     "start_time": "2021-12-05T17:21:22.911112Z"
    }
   },
   "outputs": [
    {
     "data": {
      "text/plain": [
       "SVC(random_state=0)"
      ]
     },
     "execution_count": 40,
     "metadata": {},
     "output_type": "execute_result"
    }
   ],
   "source": [
    "classifier2 = SVC(random_state=0, C=1.0, kernel='rbf', gamma='scale') # for non-linear model use this parametre kernel='rbf'\n",
    "classifier2.fit(X2_train, y2_train)"
   ]
  },
  {
   "cell_type": "code",
   "execution_count": 41,
   "metadata": {
    "ExecuteTime": {
     "end_time": "2021-12-05T17:39:12.518863Z",
     "start_time": "2021-12-05T17:30:43.027354Z"
    }
   },
   "outputs": [
    {
     "data": {
      "text/plain": [
       "SVC(random_state=0)"
      ]
     },
     "execution_count": 41,
     "metadata": {},
     "output_type": "execute_result"
    }
   ],
   "source": [
    "classifier3 = SVC(random_state=0, C=1.0, kernel='rbf', gamma='scale') # for non-linear model use this parametre kernel='rbf'\n",
    "classifier3.fit(X3_train, y3_train)"
   ]
  },
  {
   "cell_type": "code",
   "execution_count": 42,
   "metadata": {
    "ExecuteTime": {
     "end_time": "2021-12-05T17:58:16.441350Z",
     "start_time": "2021-12-05T17:39:12.524871Z"
    }
   },
   "outputs": [
    {
     "data": {
      "text/plain": [
       "SVC(random_state=0)"
      ]
     },
     "execution_count": 42,
     "metadata": {},
     "output_type": "execute_result"
    }
   ],
   "source": [
    "classifier4 = SVC(random_state=0, C=1.0, kernel='rbf', gamma='scale') # for non-linear model use this parametre kernel='rbf'\n",
    "classifier4.fit(X4_train, y4_train)"
   ]
  },
  {
   "cell_type": "markdown",
   "metadata": {},
   "source": [
    " "
   ]
  },
  {
   "cell_type": "markdown",
   "metadata": {},
   "source": [
    "**Notes**\n",
    "GridSearch VS Bayesian: Recommended: Bayesian. Aplicate Bayesian algorithm. Parameters Optimization(e.g. c, gama, sigma for the kernel used, hyperparameter as well.)"
   ]
  },
  {
   "cell_type": "markdown",
   "metadata": {},
   "source": [
    "---"
   ]
  },
  {
   "cell_type": "markdown",
   "metadata": {},
   "source": [
    "### V. Classification <a id='class'></a>"
   ]
  },
  {
   "cell_type": "markdown",
   "metadata": {},
   "source": [
    " "
   ]
  },
  {
   "cell_type": "code",
   "execution_count": 43,
   "metadata": {
    "ExecuteTime": {
     "end_time": "2021-12-05T17:59:06.347490Z",
     "start_time": "2021-12-05T17:58:16.446368Z"
    }
   },
   "outputs": [],
   "source": [
    "# Predicting the Test set results\n",
    "y_pred = classifier.predict(X_test)"
   ]
  },
  {
   "cell_type": "code",
   "execution_count": 44,
   "metadata": {
    "ExecuteTime": {
     "end_time": "2021-12-05T17:59:06.377834Z",
     "start_time": "2021-12-05T17:59:06.352404Z"
    }
   },
   "outputs": [
    {
     "data": {
      "text/plain": [
       "array([-1, -1,  1, ...,  1,  1, -1], dtype=int64)"
      ]
     },
     "execution_count": 44,
     "metadata": {},
     "output_type": "execute_result"
    }
   ],
   "source": [
    "y_pred"
   ]
  },
  {
   "cell_type": "code",
   "execution_count": 45,
   "metadata": {
    "ExecuteTime": {
     "end_time": "2021-12-05T17:59:06.407473Z",
     "start_time": "2021-12-05T17:59:06.384895Z"
    }
   },
   "outputs": [],
   "source": [
    "results = pd.DataFrame(y_test)\n",
    "results.rename(columns={\"Rating\":\"Rating_test\"}, inplace=True)"
   ]
  },
  {
   "cell_type": "code",
   "execution_count": 46,
   "metadata": {
    "ExecuteTime": {
     "end_time": "2021-12-05T17:59:06.437547Z",
     "start_time": "2021-12-05T17:59:06.414927Z"
    }
   },
   "outputs": [],
   "source": [
    "results[\"Rating_predicted\"] = y_pred"
   ]
  },
  {
   "cell_type": "code",
   "execution_count": 47,
   "metadata": {
    "ExecuteTime": {
     "end_time": "2021-12-05T17:59:06.482504Z",
     "start_time": "2021-12-05T17:59:06.445572Z"
    }
   },
   "outputs": [
    {
     "data": {
      "text/html": [
       "<div>\n",
       "<style scoped>\n",
       "    .dataframe tbody tr th:only-of-type {\n",
       "        vertical-align: middle;\n",
       "    }\n",
       "\n",
       "    .dataframe tbody tr th {\n",
       "        vertical-align: top;\n",
       "    }\n",
       "\n",
       "    .dataframe thead th {\n",
       "        text-align: right;\n",
       "    }\n",
       "</style>\n",
       "<table border=\"1\" class=\"dataframe\">\n",
       "  <thead>\n",
       "    <tr style=\"text-align: right;\">\n",
       "      <th></th>\n",
       "      <th>Rating_test</th>\n",
       "      <th>Rating_predicted</th>\n",
       "    </tr>\n",
       "  </thead>\n",
       "  <tbody>\n",
       "    <tr>\n",
       "      <th>146313</th>\n",
       "      <td>-1</td>\n",
       "      <td>-1</td>\n",
       "    </tr>\n",
       "    <tr>\n",
       "      <th>206579</th>\n",
       "      <td>-1</td>\n",
       "      <td>-1</td>\n",
       "    </tr>\n",
       "    <tr>\n",
       "      <th>177671</th>\n",
       "      <td>1</td>\n",
       "      <td>1</td>\n",
       "    </tr>\n",
       "    <tr>\n",
       "      <th>109771</th>\n",
       "      <td>1</td>\n",
       "      <td>1</td>\n",
       "    </tr>\n",
       "    <tr>\n",
       "      <th>347801</th>\n",
       "      <td>1</td>\n",
       "      <td>1</td>\n",
       "    </tr>\n",
       "    <tr>\n",
       "      <th>...</th>\n",
       "      <td>...</td>\n",
       "      <td>...</td>\n",
       "    </tr>\n",
       "    <tr>\n",
       "      <th>411953</th>\n",
       "      <td>1</td>\n",
       "      <td>1</td>\n",
       "    </tr>\n",
       "    <tr>\n",
       "      <th>226219</th>\n",
       "      <td>1</td>\n",
       "      <td>1</td>\n",
       "    </tr>\n",
       "    <tr>\n",
       "      <th>372587</th>\n",
       "      <td>1</td>\n",
       "      <td>1</td>\n",
       "    </tr>\n",
       "    <tr>\n",
       "      <th>13617</th>\n",
       "      <td>1</td>\n",
       "      <td>1</td>\n",
       "    </tr>\n",
       "    <tr>\n",
       "      <th>111707</th>\n",
       "      <td>-1</td>\n",
       "      <td>-1</td>\n",
       "    </tr>\n",
       "  </tbody>\n",
       "</table>\n",
       "<p>11101 rows × 2 columns</p>\n",
       "</div>"
      ],
      "text/plain": [
       "        Rating_test  Rating_predicted\n",
       "146313           -1                -1\n",
       "206579           -1                -1\n",
       "177671            1                 1\n",
       "109771            1                 1\n",
       "347801            1                 1\n",
       "...             ...               ...\n",
       "411953            1                 1\n",
       "226219            1                 1\n",
       "372587            1                 1\n",
       "13617             1                 1\n",
       "111707           -1                -1\n",
       "\n",
       "[11101 rows x 2 columns]"
      ]
     },
     "execution_count": 47,
     "metadata": {},
     "output_type": "execute_result"
    }
   ],
   "source": [
    "results"
   ]
  },
  {
   "cell_type": "code",
   "execution_count": 48,
   "metadata": {
    "ExecuteTime": {
     "end_time": "2021-12-05T17:59:06.512930Z",
     "start_time": "2021-12-05T17:59:06.487563Z"
    }
   },
   "outputs": [
    {
     "name": "stdout",
     "output_type": "stream",
     "text": [
      "Predicted acurately: 10387 ratio: 0.9356814701378254\n"
     ]
    }
   ],
   "source": [
    "predicted = len(results[results[\"Rating_test\"] == results[\"Rating_predicted\"]])\n",
    "print(\"Predicted acurately: {0} ratio: {1}\".format(predicted, predicted / len(results)))"
   ]
  },
  {
   "cell_type": "code",
   "execution_count": 49,
   "metadata": {
    "ExecuteTime": {
     "end_time": "2021-12-05T17:59:06.543175Z",
     "start_time": "2021-12-05T17:59:06.517933Z"
    }
   },
   "outputs": [
    {
     "name": "stdout",
     "output_type": "stream",
     "text": [
      "Predicted acurately: 714 ratio: 0.06431852986217458\n"
     ]
    }
   ],
   "source": [
    "no_predicted = len(results[results[\"Rating_test\"] != results[\"Rating_predicted\"]])\n",
    "print(\"Predicted acurately: {0} ratio: {1}\".format(no_predicted, no_predicted / len(results)))"
   ]
  },
  {
   "cell_type": "markdown",
   "metadata": {},
   "source": [
    "For the other vectors..."
   ]
  },
  {
   "cell_type": "code",
   "execution_count": 50,
   "metadata": {
    "ExecuteTime": {
     "end_time": "2021-12-05T18:04:09.092678Z",
     "start_time": "2021-12-05T17:59:06.548539Z"
    }
   },
   "outputs": [],
   "source": [
    "# Predicting the Test set results\n",
    "y2_pred = classifier2.predict(X2_test)\n",
    "y3_pred = classifier3.predict(X3_test)\n",
    "y4_pred = classifier4.predict(X4_test)"
   ]
  },
  {
   "cell_type": "markdown",
   "metadata": {},
   "source": [
    " "
   ]
  },
  {
   "cell_type": "markdown",
   "metadata": {},
   "source": [
    "--- "
   ]
  },
  {
   "cell_type": "markdown",
   "metadata": {},
   "source": [
    "### VI. Model Performance <a id='auc'></a>"
   ]
  },
  {
   "cell_type": "code",
   "execution_count": 51,
   "metadata": {
    "ExecuteTime": {
     "end_time": "2021-12-05T18:04:09.123459Z",
     "start_time": "2021-12-05T18:04:09.099698Z"
    }
   },
   "outputs": [],
   "source": [
    "from sklearn.metrics import RocCurveDisplay\n",
    "from sklearn.metrics import roc_auc_score\n",
    "from sklearn.metrics import confusion_matrix, ConfusionMatrixDisplay"
   ]
  },
  {
   "cell_type": "markdown",
   "metadata": {},
   "source": [
    "#### ROC Curve"
   ]
  },
  {
   "cell_type": "code",
   "execution_count": 52,
   "metadata": {
    "ExecuteTime": {
     "end_time": "2021-12-05T18:04:09.594848Z",
     "start_time": "2021-12-05T18:04:09.133481Z"
    }
   },
   "outputs": [
    {
     "data": {
      "text/plain": [
       "<sklearn.metrics._plot.roc_curve.RocCurveDisplay at 0x246520eea48>"
      ]
     },
     "execution_count": 52,
     "metadata": {},
     "output_type": "execute_result"
    },
    {
     "data": {
      "image/png": "[encoded data removed]",
      "text/plain": [
       "<Figure size 432x288 with 1 Axes>"
      ]
     },
     "metadata": {
      "needs_background": "light"
     },
     "output_type": "display_data"
    }
   ],
   "source": [
    "RocCurveDisplay.from_predictions(y_test, y_pred)"
   ]
  },
  {
   "cell_type": "code",
   "execution_count": 53,
   "metadata": {
    "ExecuteTime": {
     "end_time": "2021-12-05T18:04:10.125150Z",
     "start_time": "2021-12-05T18:04:09.599750Z"
    }
   },
   "outputs": [
    {
     "data": {
      "text/plain": [
       "<sklearn.metrics._plot.roc_curve.RocCurveDisplay at 0x246520e8648>"
      ]
     },
     "execution_count": 53,
     "metadata": {},
     "output_type": "execute_result"
    },
    {
     "data": {
      "image/png": "[encoded data removed]",
      "text/plain": [
       "<Figure size 432x288 with 1 Axes>"
      ]
     },
     "metadata": {
      "needs_background": "light"
     },
     "output_type": "display_data"
    }
   ],
   "source": [
    "RocCurveDisplay.from_predictions(y2_test, y2_pred)"
   ]
  },
  {
   "cell_type": "code",
   "execution_count": 54,
   "metadata": {
    "ExecuteTime": {
     "end_time": "2021-12-05T18:04:10.518489Z",
     "start_time": "2021-12-05T18:04:10.132764Z"
    }
   },
   "outputs": [
    {
     "data": {
      "text/plain": [
       "<sklearn.metrics._plot.roc_curve.RocCurveDisplay at 0x246560e0888>"
      ]
     },
     "execution_count": 54,
     "metadata": {},
     "output_type": "execute_result"
    },
    {
     "data": {
      "image/png": "[encoded data removed]",
      "text/plain": [
       "<Figure size 432x288 with 1 Axes>"
      ]
     },
     "metadata": {
      "needs_background": "light"
     },
     "output_type": "display_data"
    }
   ],
   "source": [
    "RocCurveDisplay.from_predictions(y3_test, y3_pred)"
   ]
  },
  {
   "cell_type": "code",
   "execution_count": 55,
   "metadata": {
    "ExecuteTime": {
     "end_time": "2021-12-05T18:04:11.081210Z",
     "start_time": "2021-12-05T18:04:10.522490Z"
    }
   },
   "outputs": [
    {
     "data": {
      "text/plain": [
       "<sklearn.metrics._plot.roc_curve.RocCurveDisplay at 0x24656c11648>"
      ]
     },
     "execution_count": 55,
     "metadata": {},
     "output_type": "execute_result"
    },
    {
     "data": {
      "image/png": "[encoded data removed]",
      "text/plain": [
       "<Figure size 432x288 with 1 Axes>"
      ]
     },
     "metadata": {
      "needs_background": "light"
     },
     "output_type": "display_data"
    }
   ],
   "source": [
    "RocCurveDisplay.from_predictions(y4_test, y4_pred)"
   ]
  },
  {
   "cell_type": "markdown",
   "metadata": {},
   "source": [
    "#### AUC"
   ]
  },
  {
   "cell_type": "code",
   "execution_count": 56,
   "metadata": {
    "ExecuteTime": {
     "end_time": "2021-12-05T18:04:11.111665Z",
     "start_time": "2021-12-05T18:04:11.086737Z"
    }
   },
   "outputs": [
    {
     "data": {
      "text/plain": [
       "0.935660684476294"
      ]
     },
     "execution_count": 56,
     "metadata": {},
     "output_type": "execute_result"
    }
   ],
   "source": [
    "auc = roc_auc_score(y_test, y_pred)\n",
    "auc"
   ]
  },
  {
   "cell_type": "code",
   "execution_count": 57,
   "metadata": {
    "ExecuteTime": {
     "end_time": "2021-12-05T18:04:11.142020Z",
     "start_time": "2021-12-05T18:04:11.118789Z"
    }
   },
   "outputs": [
    {
     "data": {
      "text/plain": [
       "0.9363702424839941"
      ]
     },
     "execution_count": 57,
     "metadata": {},
     "output_type": "execute_result"
    }
   ],
   "source": [
    "auc2 = roc_auc_score(y2_test, y2_pred)\n",
    "auc2"
   ]
  },
  {
   "cell_type": "code",
   "execution_count": 58,
   "metadata": {
    "ExecuteTime": {
     "end_time": "2021-12-05T18:04:11.172552Z",
     "start_time": "2021-12-05T18:04:11.147121Z"
    }
   },
   "outputs": [
    {
     "data": {
      "text/plain": [
       "0.915271243178675"
      ]
     },
     "execution_count": 58,
     "metadata": {},
     "output_type": "execute_result"
    }
   ],
   "source": [
    "auc3 = roc_auc_score(y3_test, y3_pred)\n",
    "auc3"
   ]
  },
  {
   "cell_type": "code",
   "execution_count": 59,
   "metadata": {
    "ExecuteTime": {
     "end_time": "2021-12-05T18:04:11.204216Z",
     "start_time": "2021-12-05T18:04:11.179176Z"
    }
   },
   "outputs": [
    {
     "data": {
      "text/plain": [
       "0.9217997824654056"
      ]
     },
     "execution_count": 59,
     "metadata": {},
     "output_type": "execute_result"
    }
   ],
   "source": [
    "auc4 = roc_auc_score(y4_test, y4_pred)\n",
    "auc4"
   ]
  },
  {
   "cell_type": "markdown",
   "metadata": {
    "ExecuteTime": {
     "end_time": "2021-11-23T18:49:45.543074Z",
     "start_time": "2021-11-23T18:49:45.529076Z"
    }
   },
   "source": [
    "#### Confusion Matrix"
   ]
  },
  {
   "cell_type": "code",
   "execution_count": 60,
   "metadata": {
    "ExecuteTime": {
     "end_time": "2021-12-05T18:04:11.673759Z",
     "start_time": "2021-12-05T18:04:11.211542Z"
    }
   },
   "outputs": [
    {
     "data": {
      "image/png": "[encoded data removed]",
      "text/plain": [
       "<Figure size 432x288 with 2 Axes>"
      ]
     },
     "metadata": {
      "needs_background": "light"
     },
     "output_type": "display_data"
    }
   ],
   "source": [
    "ConfusionMatrixDisplay.from_predictions(y_test, y_pred, cmap=plt.cm.Blues)\n",
    "plt.show()"
   ]
  },
  {
   "cell_type": "code",
   "execution_count": 61,
   "metadata": {
    "ExecuteTime": {
     "end_time": "2021-12-05T18:04:12.128043Z",
     "start_time": "2021-12-05T18:04:11.678827Z"
    }
   },
   "outputs": [
    {
     "data": {
      "image/png": "[encoded data removed]",
      "text/plain": [
       "<Figure size 432x288 with 2 Axes>"
      ]
     },
     "metadata": {
      "needs_background": "light"
     },
     "output_type": "display_data"
    }
   ],
   "source": [
    "ConfusionMatrixDisplay.from_predictions(y2_test, y2_pred, cmap=plt.cm.Blues)\n",
    "plt.show()"
   ]
  },
  {
   "cell_type": "code",
   "execution_count": 62,
   "metadata": {
    "ExecuteTime": {
     "end_time": "2021-12-05T18:04:12.626882Z",
     "start_time": "2021-12-05T18:04:12.136977Z"
    }
   },
   "outputs": [
    {
     "data": {
      "image/png": "[encoded data removed]",
      "text/plain": [
       "<Figure size 432x288 with 2 Axes>"
      ]
     },
     "metadata": {
      "needs_background": "light"
     },
     "output_type": "display_data"
    }
   ],
   "source": [
    "ConfusionMatrixDisplay.from_predictions(y3_test, y3_pred, cmap=plt.cm.Blues)\n",
    "plt.show()"
   ]
  },
  {
   "cell_type": "code",
   "execution_count": 63,
   "metadata": {
    "ExecuteTime": {
     "end_time": "2021-12-05T18:04:13.096167Z",
     "start_time": "2021-12-05T18:04:12.632154Z"
    }
   },
   "outputs": [
    {
     "data": {
      "image/png": "[encoded data removed]",
      "text/plain": [
       "<Figure size 432x288 with 2 Axes>"
      ]
     },
     "metadata": {
      "needs_background": "light"
     },
     "output_type": "display_data"
    }
   ],
   "source": [
    "ConfusionMatrixDisplay.from_predictions(y4_test, y4_pred, cmap=plt.cm.Blues)\n",
    "plt.show()"
   ]
  },
  {
   "cell_type": "markdown",
   "metadata": {},
   "source": [
    "--- "
   ]
  },
  {
   "cell_type": "markdown",
   "metadata": {
    "ExecuteTime": {
     "end_time": "2021-12-05T16:44:53.269916Z",
     "start_time": "2021-12-05T16:44:53.254048Z"
    }
   },
   "source": [
    "### VII. Bayesian Optimization\n"
   ]
  },
  {
   "cell_type": "code",
   "execution_count": 64,
   "metadata": {
    "ExecuteTime": {
     "end_time": "2021-12-05T18:04:14.121404Z",
     "start_time": "2021-12-05T18:04:13.103137Z"
    }
   },
   "outputs": [],
   "source": [
    "import matplotlib.tri as tri\n",
    "\n",
    "from sklearn.datasets import make_classification\n",
    "from sklearn.model_selection import cross_val_score\n",
    "from hyperopt import fmin, tpe, Trials, hp, STATUS_OK"
   ]
  },
  {
   "cell_type": "code",
   "execution_count": 65,
   "metadata": {
    "ExecuteTime": {
     "end_time": "2021-12-05T18:04:14.151359Z",
     "start_time": "2021-12-05T18:04:14.126265Z"
    }
   },
   "outputs": [],
   "source": [
    "def objective(args):\n",
    "    '''Define the loss function / objective of our model.\n",
    "\n",
    "    We will be using an SVM parameterized by the regularization parameter C\n",
    "    and the parameter gamma.\n",
    "    \n",
    "    The C parameter trades off correct classification of training examples\n",
    "    against maximization of the decision function's margin. For larger values\n",
    "    of C, a smaller margin will be accepted.\n",
    "\n",
    "    The gamma parameter defines how far the influence of a single training\n",
    "    example reaches, with larger values meaning 'close'. \n",
    "    '''\n",
    "    C, gamma = args\n",
    "    model = SVC(C=10 ** C, gamma=10 ** gamma, random_state=0)\n",
    "    loss = 1 - cross_val_score(estimator=model, X=X_train, y=y_train, scoring='roc_auc', cv=3).mean()\n",
    "    return {'params': {'C': C, 'gamma': gamma}, 'loss': loss, 'status': STATUS_OK }"
   ]
  },
  {
   "cell_type": "code",
   "execution_count": 66,
   "metadata": {
    "ExecuteTime": {
     "end_time": "2021-12-05T18:04:14.181579Z",
     "start_time": "2021-12-05T18:04:14.157012Z"
    }
   },
   "outputs": [],
   "source": [
    "def objective2(args):\n",
    "\n",
    "    C, gamma = args\n",
    "    model = SVC(C=10 ** C, gamma=10 ** gamma, random_state=0)\n",
    "    loss = 1 - cross_val_score(estimator=model, X=X2_train, y=y2_train, scoring='roc_auc', cv=3).mean()\n",
    "    return {'params': {'C': C, 'gamma': gamma}, 'loss': loss, 'status': STATUS_OK }"
   ]
  },
  {
   "cell_type": "code",
   "execution_count": 67,
   "metadata": {
    "ExecuteTime": {
     "end_time": "2021-12-05T18:04:14.196354Z",
     "start_time": "2021-12-05T18:04:14.188045Z"
    }
   },
   "outputs": [],
   "source": [
    "def objective3(args):\n",
    "\n",
    "    C, gamma = args\n",
    "    model = SVC(C=10 ** C, gamma=10 ** gamma, random_state=0)\n",
    "    loss = 1 - cross_val_score(estimator=model, X=X3_train, y=y3_train, scoring='roc_auc', cv=3).mean()\n",
    "    return {'params': {'C': C, 'gamma': gamma}, 'loss': loss, 'status': STATUS_OK }"
   ]
  },
  {
   "cell_type": "code",
   "execution_count": 68,
   "metadata": {
    "ExecuteTime": {
     "end_time": "2021-12-05T18:04:14.226979Z",
     "start_time": "2021-12-05T18:04:14.213958Z"
    }
   },
   "outputs": [],
   "source": [
    "def objective4(args):\n",
    "\n",
    "    C, gamma = args\n",
    "    model = SVC(C=10 ** C, gamma=10 ** gamma, random_state=0)\n",
    "    loss = 1 - cross_val_score(estimator=model, X=X4_train, y=y4_train, scoring='roc_auc', cv=3).mean()\n",
    "    return {'params': {'C': C, 'gamma': gamma}, 'loss': loss, 'status': STATUS_OK }"
   ]
  },
  {
   "cell_type": "code",
   "execution_count": null,
   "metadata": {
    "ExecuteTime": {
     "start_time": "2021-12-05T18:11:21.238Z"
    }
   },
   "outputs": [],
   "source": [
    "trials = Trials()\n",
    "best_m1 = fmin(objective,\n",
    "    space=[hp.uniform('C', -4., 1.), hp.uniform('gamma', -4., 1.)],\n",
    "    algo=tpe.suggest,\n",
    "    max_evals=100,\n",
    "    trials=trials)"
   ]
  },
  {
   "cell_type": "code",
   "execution_count": null,
   "metadata": {
    "ExecuteTime": {
     "start_time": "2021-12-05T18:11:22.186Z"
    }
   },
   "outputs": [],
   "source": [
    "trials2 = Trials()\n",
    "best_m2 = fmin(objective2,\n",
    "    space=[hp.uniform('C', -4., 1.), hp.uniform('gamma', -4., 1.)],\n",
    "    algo=tpe.suggest,\n",
    "    max_evals=100,\n",
    "    trials=trials2)"
   ]
  },
  {
   "cell_type": "code",
   "execution_count": null,
   "metadata": {
    "ExecuteTime": {
     "start_time": "2021-12-05T18:11:22.456Z"
    }
   },
   "outputs": [],
   "source": [
    "trials3 = Trials()\n",
    "best_m3 = fmin(objective3,\n",
    "    space=[hp.uniform('C', -4., 1.), hp.uniform('gamma', -4., 1.)],\n",
    "    algo=tpe.suggest,\n",
    "    max_evals=100,\n",
    "    trials=trials3)"
   ]
  },
  {
   "cell_type": "code",
   "execution_count": null,
   "metadata": {
    "ExecuteTime": {
     "start_time": "2021-12-05T18:11:22.606Z"
    }
   },
   "outputs": [],
   "source": [
    "trials4 = Trials()\n",
    "best_m4 = fmin(objective4,\n",
    "    space=[hp.uniform('C', -4., 1.), hp.uniform('gamma', -4., 1.)],\n",
    "    algo=tpe.suggest,\n",
    "    max_evals=100,\n",
    "    trials=trials4)"
   ]
  },
  {
   "cell_type": "code",
   "execution_count": null,
   "metadata": {
    "ExecuteTime": {
     "start_time": "2021-12-05T18:11:22.999Z"
    }
   },
   "outputs": [],
   "source": [
    "print(best_m1, best_m2, best_m3, best_m4)"
   ]
  },
  {
   "cell_type": "code",
   "execution_count": null,
   "metadata": {
    "ExecuteTime": {
     "start_time": "2021-12-05T18:11:23.313Z"
    }
   },
   "outputs": [],
   "source": [
    "results = trials.results\n",
    "ar = np.zeros(shape=(1000,3))\n",
    "for i, r in enumerate(results):\n",
    "    C = r['params']['C']\n",
    "    gamma = r['params']['gamma']\n",
    "    loss = r['loss']\n",
    "    ar[i] = C, gamma, loss"
   ]
  },
  {
   "cell_type": "code",
   "execution_count": null,
   "metadata": {
    "ExecuteTime": {
     "start_time": "2021-12-05T18:11:23.565Z"
    }
   },
   "outputs": [],
   "source": [
    "C, gamma, loss = ar[:, 0], ar[:, 1], ar[:, 2]\n",
    "\n",
    "fig, ax = plt.subplots(nrows=1)\n",
    "ax.tricontour(C, gamma, loss, levels=14, linewidths=0.5, colors='k')\n",
    "cntr = ax.tricontourf(C, gamma, loss, levels=14, cmap=\"RdBu_r\")\n",
    "\n",
    "fig.colorbar(cntr, ax=ax)\n",
    "ax.plot(C, gamma, 'ko', ms=1)\n",
    "ax.set(xlim=(-4, 1), ylim=(-4, 1))\n",
    "plt.title('Model I - Loss as a function of $10^C$, $10^\\gamma$')\n",
    "plt.xlabel('C')\n",
    "plt.ylabel('gamma')\n",
    "\n",
    "plt.show()"
   ]
  },
  {
   "cell_type": "code",
   "execution_count": null,
   "metadata": {
    "ExecuteTime": {
     "start_time": "2021-12-05T18:11:24.139Z"
    }
   },
   "outputs": [],
   "source": [
    "results2 = trials2.results\n",
    "ar2 = np.zeros(shape=(1000,3))\n",
    "for i, r in enumerate(results2):\n",
    "    C2 = r['params']['C']\n",
    "    gamma2 = r['params']['gamma']\n",
    "    loss2 = r['loss']\n",
    "    ar2[i] = C2, gamma2, loss2"
   ]
  },
  {
   "cell_type": "code",
   "execution_count": null,
   "metadata": {
    "ExecuteTime": {
     "start_time": "2021-12-05T18:11:24.616Z"
    }
   },
   "outputs": [],
   "source": [
    "C, gamma, loss = ar2[:, 0], ar2[:, 1], ar2[:, 2]\n",
    "\n",
    "fig, ax = plt.subplots(nrows=1)\n",
    "ax.tricontour(C, gamma, loss, levels=14, linewidths=0.5, colors='k')\n",
    "cntr = ax.tricontourf(C, gamma, loss, levels=14, cmap=\"RdBu_r\")\n",
    "\n",
    "fig.colorbar(cntr, ax=ax)\n",
    "ax.plot(C, gamma, 'ko', ms=1)\n",
    "ax.set(xlim=(-4, 1), ylim=(-4, 1))\n",
    "plt.title('Model II - Loss as a function of $10^C$, $10^\\gamma$')\n",
    "plt.xlabel('C')\n",
    "plt.ylabel('gamma')\n",
    "\n",
    "plt.show()"
   ]
  },
  {
   "cell_type": "code",
   "execution_count": null,
   "metadata": {
    "ExecuteTime": {
     "start_time": "2021-12-05T18:11:24.822Z"
    }
   },
   "outputs": [],
   "source": [
    "results3 = trials3.results\n",
    "ar3 = np.zeros(shape=(1000,3))\n",
    "for i, r in enumerate(results3):\n",
    "    C3 = r['params']['C']\n",
    "    gamma3 = r['params']['gamma']\n",
    "    loss3 = r['loss']\n",
    "    ar3[i] = C3, gamma3, loss3"
   ]
  },
  {
   "cell_type": "code",
   "execution_count": null,
   "metadata": {
    "ExecuteTime": {
     "start_time": "2021-12-05T18:11:25.257Z"
    }
   },
   "outputs": [],
   "source": [
    "C, gamma, loss = ar3[:, 0], ar3[:, 1], ar3[:, 2]\n",
    "\n",
    "fig, ax = plt.subplots(nrows=1)\n",
    "ax.tricontour(C, gamma, loss, levels=14, linewidths=0.5, colors='k')\n",
    "cntr = ax.tricontourf(C, gamma, loss, levels=14, cmap=\"RdBu_r\")\n",
    "\n",
    "fig.colorbar(cntr, ax=ax)\n",
    "ax.plot(C, gamma, 'ko', ms=1)\n",
    "ax.set(xlim=(-4, 1), ylim=(-4, 1))\n",
    "plt.title('Model III - Loss as a function of $10^C$, $10^\\gamma$')\n",
    "plt.xlabel('C')\n",
    "plt.ylabel('gamma')\n",
    "\n",
    "plt.show()"
   ]
  },
  {
   "cell_type": "code",
   "execution_count": null,
   "metadata": {
    "ExecuteTime": {
     "start_time": "2021-12-05T18:11:25.434Z"
    }
   },
   "outputs": [],
   "source": [
    "results4 = trials4.results\n",
    "ar4 = np.zeros(shape=(1000,3))\n",
    "for i, r in enumerate(results4):\n",
    "    C4 = r['params']['C']\n",
    "    gamma4 = r['params']['gamma']\n",
    "    loss4 = r['loss']\n",
    "    ar4[i] = C4, gamma4, loss4"
   ]
  },
  {
   "cell_type": "code",
   "execution_count": null,
   "metadata": {
    "ExecuteTime": {
     "start_time": "2021-12-05T18:11:25.856Z"
    }
   },
   "outputs": [],
   "source": [
    "C, gamma, loss = ar4[:, 0], ar4[:, 1], ar4[:, 2]\n",
    "\n",
    "fig, ax = plt.subplots(nrows=1)\n",
    "ax.tricontour(C, gamma, loss, levels=14, linewidths=0.5, colors='k')\n",
    "cntr = ax.tricontourf(C, gamma, loss, levels=14, cmap=\"RdBu_r\")\n",
    "\n",
    "fig.colorbar(cntr, ax=ax)\n",
    "ax.plot(C, gamma, 'ko', ms=1)\n",
    "ax.set(xlim=(-4, 1), ylim=(-4, 1))\n",
    "plt.title('Model IV - Loss as a function of $10^C$, $10^\\gamma$')\n",
    "plt.xlabel('C')\n",
    "plt.ylabel('gamma')\n",
    "\n",
    "plt.show()"
   ]
  },
  {
   "cell_type": "markdown",
   "metadata": {},
   "source": [
    " "
   ]
  },
  {
   "cell_type": "markdown",
   "metadata": {},
   "source": [
    "### VIII. Conclusions - Notes - Comments <a id='bott'></a>"
   ]
  },
  {
   "cell_type": "markdown",
   "metadata": {},
   "source": [
    "Please add your coments in this section, this can also be used as a changelog if desired. Just comment what you change and the date, so all the team can be aware of the notebook evolution."
   ]
  },
  {
   "cell_type": "markdown",
   "metadata": {},
   "source": [
    "* Added HTML formatting and Performance Metrics Options - C. Ramos - 23/11/2021\n",
    "\n",
    "    Altough all metrics are useful, it might be a good idea to validate with the professor if we need an specific one for our case."
   ]
  },
  {
   "cell_type": "code",
   "execution_count": null,
   "metadata": {},
   "outputs": [],
   "source": []
  },
  {
   "cell_type": "code",
   "execution_count": null,
   "metadata": {},
   "outputs": [],
   "source": []
  },
  {
   "cell_type": "markdown",
   "metadata": {},
   "source": [
    " "
   ]
  },
  {
   "cell_type": "markdown",
   "metadata": {},
   "source": [
    " "
   ]
  },
  {
   "cell_type": "markdown",
   "metadata": {},
   "source": [
    " "
   ]
  },
  {
   "cell_type": "markdown",
   "metadata": {},
   "source": [
    "<a href=\"#top\" class=\"btn btn-success btn-lg active\" role=\"button\" aria-pressed=\"false\" style=\"background-color:#004270; color:white; float: right;\" data-toggle=\"popover\" title=\"Inicio\" align=\"right\">Regresar al inicio</a>"
   ]
  }
 ],
 "metadata": {
  "kernelspec": {
   "display_name": "Python [conda env:mineria]",
   "language": "python",
   "name": "conda-env-mineria-py"
  },
  "language_info": {
   "codemirror_mode": {
    "name": "ipython",
    "version": 3
   },
   "file_extension": ".py",
   "mimetype": "text/x-python",
   "name": "python",
   "nbconvert_exporter": "python",
   "pygments_lexer": "ipython3",
   "version": "3.7.10"
  }
 },
 "nbformat": 4,
 "nbformat_minor": 2
}
