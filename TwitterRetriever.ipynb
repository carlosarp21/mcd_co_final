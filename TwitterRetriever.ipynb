{
 "cells": [
  {
   "cell_type": "markdown",
   "metadata": {},
   "source": [
    "<div>\n",
    "  <img src=\"http://oci02.img.iteso.mx/identidad_de_instancia_2018/ITESO/Logos%20ITESO/Logo-ITESO-Principal.jpg\" style=\"width:220px;height:70px; vertical-align:middle; float:right\" align=\"middle\">\n",
    "</div>\n",
    "\n",
    "\n",
    "<h3> <i>Convex Optimization  - Autumn 2021</i></h3>\n",
    "\n",
    "<a id='top'></a>"
   ]
  },
  {
   "cell_type": "markdown",
   "metadata": {},
   "source": [
    "<center><h2>Final Project. Application - Sentiment Analysis using SVC</h2></center>"
   ]
  },
  {
   "cell_type": "markdown",
   "metadata": {},
   "source": [
    "<form action=\"/action_page.php\">\n",
    "  <fieldset>\n",
    "    <legend><strong>Team Info</strong></legend>\n",
    "    \n",
    "   <div class=\"card\">\n",
    "       \n",
    "  <h4 class=\"card-header\">Carlos Alejandro Ramos Pérez, &emsp;&emsp;&emsp; César Contreras González, &emsp;&emsp;&emsp; Adrian Ramos Pérez &emsp;&emsp;&emsp;&emsp;&emsp;&emsp;&emsp;&emsp;&emsp;&emsp;&emsp;&emsp;&emsp;&emsp;&emsp;&emsp;06/12/2021</h4> \n",
    "       \n",
    "  <div class=\"card-body\">\n",
    "      <h5 class=\"card-title\"><a href=\"mailto:alejandro.ramos@iteso.mx\">alejandro.ramos@iteso.mx</a>, &emsp;&emsp;&emsp;&emsp;&emsp; <a href=\"mailto:cesar.contreras@iteso.mx\">cesar.contreras@iteso.mx</a>, &emsp;&emsp;&emsp; <a href=\"mailto:adrian.ramos@iteso.mx\">adrian.ramos@iteso.mx</a></h5>\n",
    "\n",
    "  </div>\n",
    "       \n",
    "       \n",
    " <h4 class=\"card-header\">Héctor Daniel Estrada Rodríguez, &emsp;&emsp; Yared Ismael Flores Jiménez</h4> \n",
    "  <div class=\"card-body\">\n",
    "      <h5 class=\"card-title\"><a href=\"mailto:daniel.estrada@iteso.mx\">daniel.estrada@iteso.mx</a>, &emsp;&emsp;&emsp;&emsp;&emsp;&emsp; <a href=\"mailto:yared.flores@iteso.mx\">yared.flores@iteso.mx</a></h5>   \n",
    "  </div>\n",
    "       \n",
    "</div>\n",
    "    \n",
    "  </fieldset>\n",
    "</form>"
   ]
  },
  {
   "cell_type": "markdown",
   "metadata": {},
   "source": [
    " "
   ]
  },
  {
   "cell_type": "markdown",
   "metadata": {},
   "source": [
    "---"
   ]
  },
  {
   "cell_type": "code",
   "execution_count": 1,
   "metadata": {
    "ExecuteTime": {
     "end_time": "2021-12-06T15:49:55.281684Z",
     "start_time": "2021-12-06T15:49:55.274684Z"
    }
   },
   "outputs": [],
   "source": [
    "# Show multiple outputs in cells\n",
    "from IPython.core.interactiveshell import InteractiveShell\n",
    "InteractiveShell.ast_node_interactivity = \"all\""
   ]
  },
  {
   "cell_type": "code",
   "execution_count": 2,
   "metadata": {
    "ExecuteTime": {
     "end_time": "2021-12-06T15:50:02.005220Z",
     "start_time": "2021-12-06T15:49:55.761684Z"
    }
   },
   "outputs": [],
   "source": [
    "import tweepy\n",
    "import pandas as pd\n",
    "from time import sleep\n",
    "from textblob import TextBlob\n",
    "import matplotlib.pyplot as plt\n",
    "%matplotlib inline"
   ]
  },
  {
   "cell_type": "markdown",
   "metadata": {},
   "source": [
    "### Creating the dataset"
   ]
  },
  {
   "cell_type": "markdown",
   "metadata": {},
   "source": [
    "Twitter is a social network very popular these days, with a huge base of users, this platform generates tons of data everyday. This is a great resource and we can get access to it trough the Twitter API, which allow pulling information programatically.\n",
    "\n",
    "In this application we'll build a data set from tweets using the topic **\"Pixel 6\"** which is a modern smartphone that was recently released to the consumers."
   ]
  },
  {
   "cell_type": "markdown",
   "metadata": {},
   "source": [
    "#### Twitter Login\n",
    "\n",
    "To access the API developer keys are nedded, this is a safety measure to prevent any cybernetic attack. But everybody can request their own account if the usage is properly justified."
   ]
  },
  {
   "cell_type": "code",
   "execution_count": 3,
   "metadata": {
    "ExecuteTime": {
     "end_time": "2021-12-06T15:50:02.020227Z",
     "start_time": "2021-12-06T15:50:02.008226Z"
    }
   },
   "outputs": [],
   "source": [
    "consumer_key = 'Sgic4TTwkdNMZD1cKsLIUYOwt'\n",
    "consumer_secret = 'X4qOV3b8EYVkK8iVNVMZku2PwMtU9hljJsxaQpJo5zfwSU1lY6'\n",
    "access_token = '1450286413170233347-F03cK7b2VUOSoHNisNx5A3lDPk4PGQ'\n",
    "access_token_secret = '68EXqUDQpdPD08ff7ygKix7Vlqk43AhgVjOMJQigO6NQQ'"
   ]
  },
  {
   "cell_type": "markdown",
   "metadata": {},
   "source": [
    "We login using the keys and using the authentications methods."
   ]
  },
  {
   "cell_type": "code",
   "execution_count": 7,
   "metadata": {
    "ExecuteTime": {
     "end_time": "2021-12-06T15:50:42.404122Z",
     "start_time": "2021-12-06T15:50:42.388121Z"
    }
   },
   "outputs": [],
   "source": [
    "# Login using tokens\n",
    "auth = tweepy.OAuthHandler(consumer_key, consumer_secret)\n",
    "auth.set_access_token(access_token, access_token_secret)\n",
    "api = tweepy.API(auth)"
   ]
  },
  {
   "cell_type": "markdown",
   "metadata": {},
   "source": [
    "#### Tweets search"
   ]
  },
  {
   "cell_type": "markdown",
   "metadata": {},
   "source": [
    "As stated previously, we look for the topic of interest and retrieve some specific attributes associated to the tweet that can be helpful or provide insights for the analysis."
   ]
  },
  {
   "cell_type": "code",
   "execution_count": 8,
   "metadata": {
    "ExecuteTime": {
     "end_time": "2021-12-06T15:50:43.064124Z",
     "start_time": "2021-12-06T15:50:43.052124Z"
    }
   },
   "outputs": [],
   "source": [
    "# Search for an specific word within Twitter\n",
    "what_to_find = \"Pixel 6\"\n",
    "tweets = tweepy.Cursor(api.search_tweets, what_to_find, lang='en',tweet_mode='extended').items(3000)"
   ]
  },
  {
   "cell_type": "code",
   "execution_count": 9,
   "metadata": {
    "ExecuteTime": {
     "end_time": "2021-12-06T15:51:29.958278Z",
     "start_time": "2021-12-06T15:50:43.471124Z"
    }
   },
   "outputs": [],
   "source": [
    "# Extract interesting attributes from tweepy.models.Status objects\n",
    "rows = []\n",
    "for t in tweets:\n",
    "    rows.append(dict(datetime = t.created_at.strftime(\"%m/%d/%Y, %H:%M:%S\"),\n",
    "                    user = t.user.screen_name,\n",
    "                    verified = t.user.verified,\n",
    "                    followers = t.user.followers_count,\n",
    "                    text = t.full_text,\n",
    "                    url=t.entities.get('urls')))"
   ]
  },
  {
   "cell_type": "markdown",
   "metadata": {},
   "source": [
    "Now with the list of dicts we can build a dataframe. In order to be able to user the same data framnother time we write it to a file called pixel_tweets.csv"
   ]
  },
  {
   "cell_type": "code",
   "execution_count": 10,
   "metadata": {
    "ExecuteTime": {
     "end_time": "2021-12-06T15:51:30.033272Z",
     "start_time": "2021-12-06T15:51:29.962279Z"
    }
   },
   "outputs": [],
   "source": [
    "# Build df from list of dicts\n",
    "df = pd.DataFrame(rows)\n",
    "df.to_csv('pixel_tweets.csv')"
   ]
  },
  {
   "cell_type": "code",
   "execution_count": 39,
   "metadata": {
    "ExecuteTime": {
     "end_time": "2021-12-06T21:05:52.829655Z",
     "start_time": "2021-12-06T21:05:52.725657Z"
    }
   },
   "outputs": [
    {
     "data": {
      "text/html": [
       "<div>\n",
       "<style scoped>\n",
       "    .dataframe tbody tr th:only-of-type {\n",
       "        vertical-align: middle;\n",
       "    }\n",
       "\n",
       "    .dataframe tbody tr th {\n",
       "        vertical-align: top;\n",
       "    }\n",
       "\n",
       "    .dataframe thead th {\n",
       "        text-align: right;\n",
       "    }\n",
       "</style>\n",
       "<table border=\"1\" class=\"dataframe\">\n",
       "  <thead>\n",
       "    <tr style=\"text-align: right;\">\n",
       "      <th></th>\n",
       "      <th>datetime</th>\n",
       "      <th>user</th>\n",
       "      <th>verified</th>\n",
       "      <th>followers</th>\n",
       "      <th>text</th>\n",
       "      <th>url</th>\n",
       "    </tr>\n",
       "  </thead>\n",
       "  <tbody>\n",
       "    <tr>\n",
       "      <th>0</th>\n",
       "      <td>12/06/2021, 15:47:03</td>\n",
       "      <td>GroundedTech</td>\n",
       "      <td>False</td>\n",
       "      <td>323</td>\n",
       "      <td>RT @GroundedTech: Which Android phone do you t...</td>\n",
       "      <td>[]</td>\n",
       "    </tr>\n",
       "    <tr>\n",
       "      <th>1</th>\n",
       "      <td>12/06/2021, 15:47:03</td>\n",
       "      <td>agr8manythings</td>\n",
       "      <td>False</td>\n",
       "      <td>173</td>\n",
       "      <td>😖 Anyone else have this issue, or similar? My ...</td>\n",
       "      <td>[]</td>\n",
       "    </tr>\n",
       "    <tr>\n",
       "      <th>2</th>\n",
       "      <td>12/06/2021, 15:45:12</td>\n",
       "      <td>omPlayzzGames</td>\n",
       "      <td>False</td>\n",
       "      <td>3</td>\n",
       "      <td>RT @Mr__Mitchell__: 🚨Pixel 6 Pro for sale🚨 AT&amp;...</td>\n",
       "      <td>[]</td>\n",
       "    </tr>\n",
       "    <tr>\n",
       "      <th>3</th>\n",
       "      <td>12/06/2021, 15:43:41</td>\n",
       "      <td>LBPHeretic</td>\n",
       "      <td>False</td>\n",
       "      <td>432</td>\n",
       "      <td>This is happening on older Pixel models, too. ...</td>\n",
       "      <td>[{'url': 'https://t.co/TwynJEktK3', 'expanded_...</td>\n",
       "    </tr>\n",
       "    <tr>\n",
       "      <th>4</th>\n",
       "      <td>12/06/2021, 15:38:22</td>\n",
       "      <td>Its_Pink</td>\n",
       "      <td>False</td>\n",
       "      <td>3356</td>\n",
       "      <td>RT @LiamTwose: We are now less than 6 hours aw...</td>\n",
       "      <td>[]</td>\n",
       "    </tr>\n",
       "    <tr>\n",
       "      <th>...</th>\n",
       "      <td>...</td>\n",
       "      <td>...</td>\n",
       "      <td>...</td>\n",
       "      <td>...</td>\n",
       "      <td>...</td>\n",
       "      <td>...</td>\n",
       "    </tr>\n",
       "    <tr>\n",
       "      <th>2197</th>\n",
       "      <td>12/04/2021, 06:42:46</td>\n",
       "      <td>GlenBluez</td>\n",
       "      <td>False</td>\n",
       "      <td>142</td>\n",
       "      <td>This Google pixel 6 I'm up in the air for.</td>\n",
       "      <td>[]</td>\n",
       "    </tr>\n",
       "    <tr>\n",
       "      <th>2198</th>\n",
       "      <td>12/04/2021, 06:41:40</td>\n",
       "      <td>Daniel09930575</td>\n",
       "      <td>False</td>\n",
       "      <td>0</td>\n",
       "      <td>@googlephotos  I found out by accident today t...</td>\n",
       "      <td>[]</td>\n",
       "    </tr>\n",
       "    <tr>\n",
       "      <th>2199</th>\n",
       "      <td>12/04/2021, 06:38:09</td>\n",
       "      <td>neelgaganslg</td>\n",
       "      <td>False</td>\n",
       "      <td>1416</td>\n",
       "      <td>RT @bencsin: I criticized the hell out of the ...</td>\n",
       "      <td>[]</td>\n",
       "    </tr>\n",
       "    <tr>\n",
       "      <th>2200</th>\n",
       "      <td>12/04/2021, 06:27:22</td>\n",
       "      <td>Oldest_Rookie</td>\n",
       "      <td>False</td>\n",
       "      <td>31</td>\n",
       "      <td>RT @Captain2Phones: I've used a USB OTG drive ...</td>\n",
       "      <td>[]</td>\n",
       "    </tr>\n",
       "    <tr>\n",
       "      <th>2201</th>\n",
       "      <td>12/04/2021, 06:26:52</td>\n",
       "      <td>COLLECT0R_NFT</td>\n",
       "      <td>False</td>\n",
       "      <td>10227</td>\n",
       "      <td>RT @Fuzzys_Art: Only 6 lucky pixel pandas left...</td>\n",
       "      <td>[]</td>\n",
       "    </tr>\n",
       "  </tbody>\n",
       "</table>\n",
       "<p>2202 rows × 6 columns</p>\n",
       "</div>"
      ],
      "text/plain": [
       "                  datetime            user  verified  followers  \\\n",
       "0     12/06/2021, 15:47:03    GroundedTech     False        323   \n",
       "1     12/06/2021, 15:47:03  agr8manythings     False        173   \n",
       "2     12/06/2021, 15:45:12   omPlayzzGames     False          3   \n",
       "3     12/06/2021, 15:43:41      LBPHeretic     False        432   \n",
       "4     12/06/2021, 15:38:22        Its_Pink     False       3356   \n",
       "...                    ...             ...       ...        ...   \n",
       "2197  12/04/2021, 06:42:46       GlenBluez     False        142   \n",
       "2198  12/04/2021, 06:41:40  Daniel09930575     False          0   \n",
       "2199  12/04/2021, 06:38:09    neelgaganslg     False       1416   \n",
       "2200  12/04/2021, 06:27:22   Oldest_Rookie     False         31   \n",
       "2201  12/04/2021, 06:26:52   COLLECT0R_NFT     False      10227   \n",
       "\n",
       "                                                   text  \\\n",
       "0     RT @GroundedTech: Which Android phone do you t...   \n",
       "1     😖 Anyone else have this issue, or similar? My ...   \n",
       "2     RT @Mr__Mitchell__: 🚨Pixel 6 Pro for sale🚨 AT&...   \n",
       "3     This is happening on older Pixel models, too. ...   \n",
       "4     RT @LiamTwose: We are now less than 6 hours aw...   \n",
       "...                                                 ...   \n",
       "2197         This Google pixel 6 I'm up in the air for.   \n",
       "2198  @googlephotos  I found out by accident today t...   \n",
       "2199  RT @bencsin: I criticized the hell out of the ...   \n",
       "2200  RT @Captain2Phones: I've used a USB OTG drive ...   \n",
       "2201  RT @Fuzzys_Art: Only 6 lucky pixel pandas left...   \n",
       "\n",
       "                                                    url  \n",
       "0                                                    []  \n",
       "1                                                    []  \n",
       "2                                                    []  \n",
       "3     [{'url': 'https://t.co/TwynJEktK3', 'expanded_...  \n",
       "4                                                    []  \n",
       "...                                                 ...  \n",
       "2197                                                 []  \n",
       "2198                                                 []  \n",
       "2199                                                 []  \n",
       "2200                                                 []  \n",
       "2201                                                 []  \n",
       "\n",
       "[2202 rows x 6 columns]"
      ]
     },
     "execution_count": 39,
     "metadata": {},
     "output_type": "execute_result"
    }
   ],
   "source": [
    "df"
   ]
  },
  {
   "cell_type": "markdown",
   "metadata": {},
   "source": [
    "### Sentiment Analysis"
   ]
  },
  {
   "cell_type": "markdown",
   "metadata": {},
   "source": [
    "We can determine the intent of the users by using a classification algorithm, in this case we use a pretrained Support Vector Machine for classification."
   ]
  },
  {
   "cell_type": "code",
   "execution_count": null,
   "metadata": {},
   "outputs": [],
   "source": [
    "import re\n",
    "import string\n",
    "import dill as pickle\n",
    "from nltk.stem import SnowballStemmer\n",
    "from nltk.corpus import stopwords"
   ]
  },
  {
   "cell_type": "code",
   "execution_count": 31,
   "metadata": {
    "ExecuteTime": {
     "end_time": "2021-12-06T16:40:50.945910Z",
     "start_time": "2021-12-06T16:40:50.914865Z"
    }
   },
   "outputs": [],
   "source": [
    "# Load dataframe\n",
    "df2 = pd.read_csv('pixel_tweets.csv')"
   ]
  },
  {
   "cell_type": "markdown",
   "metadata": {},
   "source": [
    "#### Loading a serialized vectorizer and classification model"
   ]
  },
  {
   "cell_type": "code",
   "execution_count": 23,
   "metadata": {
    "ExecuteTime": {
     "end_time": "2021-12-06T16:38:58.576853Z",
     "start_time": "2021-12-06T16:38:58.508850Z"
    }
   },
   "outputs": [],
   "source": [
    "# Load custom vectorizer\n",
    "with open('custom_tfidf_vectorizer.pickle', 'rb') as f:\n",
    "    vectorizer = pickle.load(f)\n",
    "\n",
    "# Load pretrained model\n",
    "with open('svc_custom_tfidf.pickle', 'rb') as f:\n",
    "    classifier = pickle.load(f)"
   ]
  },
  {
   "cell_type": "markdown",
   "metadata": {},
   "source": [
    "We need to define some custom functions for the normalization process that will be applied by the vectorizer."
   ]
  },
  {
   "cell_type": "code",
   "execution_count": 24,
   "metadata": {
    "ExecuteTime": {
     "end_time": "2021-12-06T16:39:00.406859Z",
     "start_time": "2021-12-06T16:39:00.381855Z"
    },
    "code_folding": [
     2,
     24
    ]
   },
   "outputs": [],
   "source": [
    "punct_marks = re.compile('[%s]' % re.escape(string.punctuation))\n",
    "\n",
    "def remove_punctuation(sentence):\n",
    "    new_sent = []\n",
    "    \n",
    "    for token in sentence.split(' '):\n",
    "        \n",
    "        # Look for emails or webpages\n",
    "        web_chrctrs = ('@','http', 'https')\n",
    "        if not any(character in token for character in web_chrctrs):\n",
    "            new_token = re.sub(punct_marks, '', token)\n",
    "            \n",
    "        else:\n",
    "            new_token = token\n",
    "            \n",
    "        if new_token:\n",
    "            new_sent.append(new_token)\n",
    "            \n",
    "    return new_sent\n",
    "\n",
    "\n",
    "stemmer = SnowballStemmer('english')\n",
    "stops = stopwords.words('english')\n",
    "\n",
    "def sent_norm(sent_):\n",
    "    sent = remove_punctuation(sent_)\n",
    "    norm_sent = [stemmer.stem(word.lower()) \n",
    "                 for word in sent if word not in stops]\n",
    "    return norm_sent\n"
   ]
  },
  {
   "cell_type": "markdown",
   "metadata": {},
   "source": [
    "Apply tranformation to text column from the data set, to get the term-document matrix."
   ]
  },
  {
   "cell_type": "code",
   "execution_count": 40,
   "metadata": {
    "ExecuteTime": {
     "end_time": "2021-12-06T21:40:22.968506Z",
     "start_time": "2021-12-06T21:40:20.582501Z"
    }
   },
   "outputs": [
    {
     "data": {
      "text/plain": [
       "<2202x34257 sparse matrix of type '<class 'numpy.float64'>'\n",
       "\twith 22359 stored elements in Compressed Sparse Row format>"
      ]
     },
     "execution_count": 40,
     "metadata": {},
     "output_type": "execute_result"
    }
   ],
   "source": [
    "X = vectorizer.transform(df['text'])\n",
    "X"
   ]
  },
  {
   "cell_type": "markdown",
   "metadata": {},
   "source": [
    "#### Make predictions using the pretrained model."
   ]
  },
  {
   "cell_type": "code",
   "execution_count": 29,
   "metadata": {
    "ExecuteTime": {
     "end_time": "2021-12-06T16:40:16.351038Z",
     "start_time": "2021-12-06T16:40:04.153925Z"
    }
   },
   "outputs": [],
   "source": [
    "predictions = classifier.predict(X)"
   ]
  },
  {
   "cell_type": "code",
   "execution_count": 32,
   "metadata": {
    "ExecuteTime": {
     "end_time": "2021-12-06T16:41:21.684367Z",
     "start_time": "2021-12-06T16:41:21.675331Z"
    }
   },
   "outputs": [],
   "source": [
    "df2['prediction'] = predictions"
   ]
  },
  {
   "cell_type": "code",
   "execution_count": 37,
   "metadata": {
    "ExecuteTime": {
     "end_time": "2021-12-06T16:42:29.027975Z",
     "start_time": "2021-12-06T16:42:29.008973Z"
    }
   },
   "outputs": [
    {
     "data": {
      "text/html": [
       "<div>\n",
       "<style scoped>\n",
       "    .dataframe tbody tr th:only-of-type {\n",
       "        vertical-align: middle;\n",
       "    }\n",
       "\n",
       "    .dataframe tbody tr th {\n",
       "        vertical-align: top;\n",
       "    }\n",
       "\n",
       "    .dataframe thead th {\n",
       "        text-align: right;\n",
       "    }\n",
       "</style>\n",
       "<table border=\"1\" class=\"dataframe\">\n",
       "  <thead>\n",
       "    <tr style=\"text-align: right;\">\n",
       "      <th></th>\n",
       "      <th>Unnamed: 0</th>\n",
       "      <th>datetime</th>\n",
       "      <th>user</th>\n",
       "      <th>verified</th>\n",
       "      <th>followers</th>\n",
       "      <th>text</th>\n",
       "      <th>url</th>\n",
       "      <th>prediction</th>\n",
       "    </tr>\n",
       "  </thead>\n",
       "  <tbody>\n",
       "    <tr>\n",
       "      <th>0</th>\n",
       "      <td>0</td>\n",
       "      <td>12/06/2021, 15:47:03</td>\n",
       "      <td>GroundedTech</td>\n",
       "      <td>False</td>\n",
       "      <td>323</td>\n",
       "      <td>RT @GroundedTech: Which Android phone do you t...</td>\n",
       "      <td>[]</td>\n",
       "      <td>1</td>\n",
       "    </tr>\n",
       "    <tr>\n",
       "      <th>1</th>\n",
       "      <td>1</td>\n",
       "      <td>12/06/2021, 15:47:03</td>\n",
       "      <td>agr8manythings</td>\n",
       "      <td>False</td>\n",
       "      <td>173</td>\n",
       "      <td>😖 Anyone else have this issue, or similar? My ...</td>\n",
       "      <td>[]</td>\n",
       "      <td>-1</td>\n",
       "    </tr>\n",
       "    <tr>\n",
       "      <th>2</th>\n",
       "      <td>2</td>\n",
       "      <td>12/06/2021, 15:45:12</td>\n",
       "      <td>omPlayzzGames</td>\n",
       "      <td>False</td>\n",
       "      <td>3</td>\n",
       "      <td>RT @Mr__Mitchell__: 🚨Pixel 6 Pro for sale🚨 AT&amp;...</td>\n",
       "      <td>[]</td>\n",
       "      <td>-1</td>\n",
       "    </tr>\n",
       "    <tr>\n",
       "      <th>3</th>\n",
       "      <td>3</td>\n",
       "      <td>12/06/2021, 15:43:41</td>\n",
       "      <td>LBPHeretic</td>\n",
       "      <td>False</td>\n",
       "      <td>432</td>\n",
       "      <td>This is happening on older Pixel models, too. ...</td>\n",
       "      <td>[{'url': 'https://t.co/TwynJEktK3', 'expanded_...</td>\n",
       "      <td>1</td>\n",
       "    </tr>\n",
       "  </tbody>\n",
       "</table>\n",
       "</div>"
      ],
      "text/plain": [
       "   Unnamed: 0              datetime            user  verified  followers  \\\n",
       "0           0  12/06/2021, 15:47:03    GroundedTech     False        323   \n",
       "1           1  12/06/2021, 15:47:03  agr8manythings     False        173   \n",
       "2           2  12/06/2021, 15:45:12   omPlayzzGames     False          3   \n",
       "3           3  12/06/2021, 15:43:41      LBPHeretic     False        432   \n",
       "\n",
       "                                                text  \\\n",
       "0  RT @GroundedTech: Which Android phone do you t...   \n",
       "1  😖 Anyone else have this issue, or similar? My ...   \n",
       "2  RT @Mr__Mitchell__: 🚨Pixel 6 Pro for sale🚨 AT&...   \n",
       "3  This is happening on older Pixel models, too. ...   \n",
       "\n",
       "                                                 url  prediction  \n",
       "0                                                 []           1  \n",
       "1                                                 []          -1  \n",
       "2                                                 []          -1  \n",
       "3  [{'url': 'https://t.co/TwynJEktK3', 'expanded_...           1  "
      ]
     },
     "execution_count": 37,
     "metadata": {},
     "output_type": "execute_result"
    }
   ],
   "source": [
    "df.to_csv('pixel_tweets.csv')"
   ]
  },
  {
   "cell_type": "code",
   "execution_count": 38,
   "metadata": {
    "ExecuteTime": {
     "end_time": "2021-12-06T16:44:38.657860Z",
     "start_time": "2021-12-06T16:44:38.617782Z"
    }
   },
   "outputs": [],
   "source": [
    "df3 = df2[['text','prediction']]\n",
    "df3.to_csv('sentiment_prediction.csv')"
   ]
  }
 ],
 "metadata": {
  "kernelspec": {
   "display_name": "Python [conda env:mineria]",
   "language": "python",
   "name": "conda-env-mineria-py"
  },
  "language_info": {
   "codemirror_mode": {
    "name": "ipython",
    "version": 3
   },
   "file_extension": ".py",
   "mimetype": "text/x-python",
   "name": "python",
   "nbconvert_exporter": "python",
   "pygments_lexer": "ipython3",
   "version": "3.7.10"
  }
 },
 "nbformat": 4,
 "nbformat_minor": 4
}
